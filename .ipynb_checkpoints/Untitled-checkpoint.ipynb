{
 "cells": [
  {
   "cell_type": "code",
   "execution_count": 1,
   "id": "234406ce-c247-4898-a9db-c618e736cff2",
   "metadata": {},
   "outputs": [
    {
     "data": {
      "text/plain": [
       "(2, 3)"
      ]
     },
     "execution_count": 1,
     "metadata": {},
     "output_type": "execute_result"
    }
   ],
   "source": [
    "import re\n",
    "\n",
    "a = '@nagejvksnddfiu'\n",
    "b = re.search(r'g', a)\n",
    "b.span()"
   ]
  },
  {
   "cell_type": "code",
   "execution_count": 4,
   "id": "7bdca82f-7be9-4bf1-909c-67a7d4ee1685",
   "metadata": {},
   "outputs": [
    {
     "data": {
      "text/plain": [
       "'ejv'"
      ]
     },
     "execution_count": 4,
     "metadata": {},
     "output_type": "execute_result"
    }
   ],
   "source": [
    "a[0:0] + a[3:6]"
   ]
  },
  {
   "cell_type": "code",
   "execution_count": null,
   "id": "edef0cad-8df8-4f74-9b96-b4dda2745f1a",
   "metadata": {},
   "outputs": [],
   "source": []
  }
 ],
 "metadata": {
  "kernelspec": {
   "display_name": "Python 3 (ipykernel)",
   "language": "python",
   "name": "python3"
  },
  "language_info": {
   "codemirror_mode": {
    "name": "ipython",
    "version": 3
   },
   "file_extension": ".py",
   "mimetype": "text/x-python",
   "name": "python",
   "nbconvert_exporter": "python",
   "pygments_lexer": "ipython3",
   "version": "3.9.6"
  }
 },
 "nbformat": 4,
 "nbformat_minor": 5
}
