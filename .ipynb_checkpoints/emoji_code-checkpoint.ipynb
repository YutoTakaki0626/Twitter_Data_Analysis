{
 "cells": [
  {
   "cell_type": "code",
   "execution_count": 1,
   "id": "1eaca8e0-5f27-45a9-9644-81f810550ba8",
   "metadata": {},
   "outputs": [],
   "source": [
    "%load_ext autoreload\n",
    "%autoreload 2"
   ]
  },
  {
   "cell_type": "code",
   "execution_count": 9,
   "id": "1a807640-f297-4066-8269-285102221aaa",
   "metadata": {},
   "outputs": [],
   "source": [
    "from tweets_list import loadJoblib\n",
    "\n",
    "tweets_list = loadJoblib(\"tweets_list.joblib\")\n",
    "emojis_list = loadJoblib('contained_emojis_list.joblib')"
   ]
  },
  {
   "cell_type": "code",
   "execution_count": 31,
   "id": "493676e2-4b7c-4c93-90b6-972172f7dc31",
   "metadata": {},
   "outputs": [],
   "source": [
    "from emoji_process import get_all_emoji\n",
    "\n",
    "all_emojis = get_all_emoji()\n",
    "# all_emojis"
   ]
  },
  {
   "cell_type": "code",
   "execution_count": 4,
   "id": "4637c8a2-be85-442b-a392-664a04e16d01",
   "metadata": {},
   "outputs": [],
   "source": [
    "# from emoji_process import detect_contained_emojis\n",
    "\n",
    "# emojis_list = detect_contained_emojis(tweets_list, all_emojis)"
   ]
  },
  {
   "cell_type": "code",
   "execution_count": 8,
   "id": "67de5a38-973a-4839-8b09-71c4b2c62a80",
   "metadata": {},
   "outputs": [],
   "source": [
    "# from tweets_list import dumpJoblib\n",
    "\n",
    "# dumpJoblib(\"emoji_only.joblib\", emojis_list)"
   ]
  },
  {
   "cell_type": "code",
   "execution_count": 58,
   "id": "713f0e32-9224-4ad0-8efd-7802912ad96c",
   "metadata": {},
   "outputs": [],
   "source": [
    "from emoji_process import removed_emojis\n",
    "\n",
    "removed_emoji_list = removed_emojis(tweets_list, all_emojis)"
   ]
  },
  {
   "cell_type": "code",
   "execution_count": 59,
   "id": "6ec3d0ee-080a-4f0d-8a53-b4c6394d6310",
   "metadata": {},
   "outputs": [],
   "source": [
    "from tweets_list import dumpJoblib\n",
    "\n",
    "dumpJoblib('removed_emoji', removed_emoji_list)"
   ]
  },
  {
   "cell_type": "code",
   "execution_count": null,
   "id": "4c3fd679-7f7f-408e-83c5-c5569f9d86d3",
   "metadata": {},
   "outputs": [],
   "source": []
  }
 ],
 "metadata": {
  "kernelspec": {
   "display_name": "Python 3",
   "language": "python",
   "name": "python3"
  },
  "language_info": {
   "codemirror_mode": {
    "name": "ipython",
    "version": 3
   },
   "file_extension": ".py",
   "mimetype": "text/x-python",
   "name": "python",
   "nbconvert_exporter": "python",
   "pygments_lexer": "ipython3",
   "version": "3.8.8"
  }
 },
 "nbformat": 4,
 "nbformat_minor": 5
}
