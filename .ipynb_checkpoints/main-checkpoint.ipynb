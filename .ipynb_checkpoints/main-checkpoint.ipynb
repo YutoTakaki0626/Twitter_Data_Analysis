{
 "cells": [
  {
   "cell_type": "code",
   "execution_count": 1,
   "id": "17eee16e-9ce6-4fe4-b356-08000d43c55d",
   "metadata": {},
   "outputs": [],
   "source": [
    "%load_ext autoreload\n",
    "%autoreload 2"
   ]
  },
  {
   "cell_type": "code",
   "execution_count": 3,
   "id": "9d152d30-a5c1-4767-bcc2-9b3032d462ff",
   "metadata": {},
   "outputs": [],
   "source": [
    "from datetime import timedelta\n",
    "import pandas as pd\n",
    "import tweepy"
   ]
  },
  {
   "cell_type": "code",
   "execution_count": 4,
   "id": "0ba1e9a9-c18d-4158-8338-f22b03bcbafc",
   "metadata": {},
   "outputs": [],
   "source": [
    "API_KEY = '0GsNw5d9mzyrVOowhuagLwh51'\n",
    "API_SECRET_KEY = 'jRjfnzb2qjUr0OnNDX4B5O8U59xMSr3oSADnNSS7ahZPand4mj'\n",
    "ACCESS_TOKEN = '1358712503149076480-WbW3LHknJCa14tVKdRQsPIIotfZyfo'\n",
    "ACCESS_TOKEN_SECRET = 'DroLyd0VZWpE48Ze9u7UJL5uObIcV77myQ0Z1ahbrLzVU'"
   ]
  },
  {
   "cell_type": "code",
   "execution_count": 120,
   "id": "ff997502-7cf5-4b6a-b4e6-d3afbbe9ecd3",
   "metadata": {},
   "outputs": [],
   "source": [
    "from api import twitter_api\n",
    "from search import get_search\n",
    "import random"
   ]
  },
  {
   "cell_type": "code",
   "execution_count": 121,
   "id": "74145bcc-fd85-4aa3-8991-ddbbdb669138",
   "metadata": {},
   "outputs": [],
   "source": [
    "api = twitter_api(API_KEY, API_SECRET_KEY, ACCESS_TOKEN, ACCESS_TOKEN_SECRET)\n",
    "\n",
    "list_keyword = ['は', 'が', 'の', 'を', 'に ', 'そ', 'た', 'あ', 'い', 'く' ]\n",
    "\n",
    "for idx, keyword in enumerate(list_keyword):\n",
    "    n = random.randint(4, 9)\n",
    "    search = get_search(api, keyword, \"2021-08-0{}\".format(n), \"2021-08-0{}\".format(n+1))\n",
    "    idxmax = search.groupby(\"user_id\").tweet_created_at.idxmax()\n",
    "    tweets = search.iloc[idxmax]\n",
    "    tweets.to_csv('data/tweets_data{}.csv'.format(str(idx)))"
   ]
  },
  {
   "cell_type": "code",
   "execution_count": 122,
   "id": "ede54a40-e7d2-4ffa-b3ea-f5971b8adb91",
   "metadata": {},
   "outputs": [],
   "source": [
    "tweets_list = []\n",
    "\n",
    "for i in range(10):\n",
    "    df = pd.read_csv('data/tweets_data{}.csv'.format(str(i)))\n",
    "    for j in list(df['tweet_full_text']):\n",
    "        tweets_list.append(j)"
   ]
  },
  {
   "cell_type": "code",
   "execution_count": 123,
   "id": "cff9cd3d-10ed-4cf6-a5fa-247659170654",
   "metadata": {},
   "outputs": [
    {
     "data": {
      "text/plain": [
       "994"
      ]
     },
     "execution_count": 123,
     "metadata": {},
     "output_type": "execute_result"
    }
   ],
   "source": [
    "len(tweets_list)"
   ]
  },
  {
   "cell_type": "markdown",
   "id": "dd384e9c-212c-42c8-8a24-6696e42af22a",
   "metadata": {},
   "source": [
    "# \\n除去"
   ]
  },
  {
   "cell_type": "code",
   "execution_count": 124,
   "id": "f647b1ef-6353-4c1c-90f7-68885b107566",
   "metadata": {},
   "outputs": [],
   "source": [
    "from count_the_number import improve_new_line\n",
    "\n",
    "improve_new_line(tweets_list)"
   ]
  },
  {
   "cell_type": "markdown",
   "id": "ed5bee70-d54f-4ab5-ba54-44ac80729ffd",
   "metadata": {},
   "source": [
    "\n",
    "# User Mention 対策"
   ]
  },
  {
   "cell_type": "code",
   "execution_count": 125,
   "id": "84ac6487-ee50-4285-a949-2a3630320515",
   "metadata": {},
   "outputs": [],
   "source": [
    "from count_the_number import count_the_number_of_user_mention\n",
    "\n",
    "user_mention = count_the_number_of_user_mention(tweets_list)"
   ]
  },
  {
   "cell_type": "code",
   "execution_count": 134,
   "id": "0291f79e-0642-43fe-869b-4e6faefbfb89",
   "metadata": {},
   "outputs": [
    {
     "data": {
      "text/plain": [
       "349"
      ]
     },
     "execution_count": 134,
     "metadata": {},
     "output_type": "execute_result"
    }
   ],
   "source": [
    "user_mention"
   ]
  },
  {
   "cell_type": "markdown",
   "id": "8b52874f-43ef-4805-a48b-8bc442eea527",
   "metadata": {},
   "source": [
    "# URL対策"
   ]
  },
  {
   "cell_type": "code",
   "execution_count": 126,
   "id": "3cdf1da9-1a60-4ed8-a74d-2d7b5f0a96a7",
   "metadata": {},
   "outputs": [],
   "source": [
    "from count_the_number import count_the_number_of_url\n",
    "\n",
    "url = count_the_number_of_url(tweets_list)        "
   ]
  },
  {
   "cell_type": "code",
   "execution_count": 133,
   "id": "0836ead5-beb2-4761-a36a-1d9a6400001d",
   "metadata": {},
   "outputs": [
    {
     "data": {
      "text/plain": [
       "179"
      ]
     },
     "execution_count": 133,
     "metadata": {},
     "output_type": "execute_result"
    }
   ],
   "source": [
    "url"
   ]
  },
  {
   "cell_type": "markdown",
   "id": "98f6d82a-2152-4ed4-b589-b4708e2643af",
   "metadata": {},
   "source": [
    "# ハッシュタグ対策"
   ]
  },
  {
   "cell_type": "code",
   "execution_count": 127,
   "id": "5485e3cf-7165-45e8-91e7-b9fd258aa973",
   "metadata": {},
   "outputs": [],
   "source": [
    "from count_the_number import count_the_number_of_hashtag\n",
    "\n",
    "hashtag = count_the_number_of_hashtag(tweets_list)"
   ]
  },
  {
   "cell_type": "code",
   "execution_count": 132,
   "id": "23970b3e-29ff-432a-96ef-50d42c7fea77",
   "metadata": {},
   "outputs": [
    {
     "data": {
      "text/plain": [
       "106"
      ]
     },
     "execution_count": 132,
     "metadata": {},
     "output_type": "execute_result"
    }
   ],
   "source": [
    "hashtag"
   ]
  },
  {
   "cell_type": "markdown",
   "id": "792f0078-bbe3-44a2-8b7e-617f1e3b9c5f",
   "metadata": {},
   "source": [
    "# 英語・日本語"
   ]
  },
  {
   "cell_type": "code",
   "execution_count": 128,
   "id": "eb4063e3-ee23-465c-abda-fc42cc41634d",
   "metadata": {},
   "outputs": [],
   "source": [
    "from contained_english import count_the_number_of_mixed_tweet\n",
    "\n",
    "english_and_japanese = count_the_number_of_mixed_tweet(tweets_list)"
   ]
  },
  {
   "cell_type": "code",
   "execution_count": 131,
   "id": "8472c09f-43cb-457a-9592-dbabbb43dbf0",
   "metadata": {},
   "outputs": [
    {
     "data": {
      "text/plain": [
       "119"
      ]
     },
     "execution_count": 131,
     "metadata": {},
     "output_type": "execute_result"
    }
   ],
   "source": [
    "english_and_japanese"
   ]
  },
  {
   "cell_type": "markdown",
   "id": "01549957-09ae-422f-a121-1a1849f677f1",
   "metadata": {},
   "source": [
    "# 分析"
   ]
  },
  {
   "cell_type": "code",
   "execution_count": 129,
   "id": "b53dfd81-7057-4b4a-85be-71b5f19669ab",
   "metadata": {},
   "outputs": [],
   "source": [
    "import matplotlib.pyplot as plt\n",
    "import seaborn as sns\n",
    "\n",
    "%matplotlib inline\n",
    "sns.set()"
   ]
  },
  {
   "cell_type": "code",
   "execution_count": 130,
   "id": "ba7a6ad2-3e7d-4f43-9784-dd2ecdf5f8e9",
   "metadata": {},
   "outputs": [
    {
     "name": "stderr",
     "output_type": "stream",
     "text": [
      "/home/takakiyuto/anaconda3/lib/python3.8/site-packages/seaborn/_decorators.py:36: FutureWarning: Pass the following variables as keyword args: x, y. From version 0.12, the only valid positional argument will be `data`, and passing other arguments without an explicit keyword will result in an error or misinterpretation.\n",
      "  warnings.warn(\n"
     ]
    },
    {
     "data": {
      "text/plain": [
       "<AxesSubplot:>"
      ]
     },
     "execution_count": 130,
     "metadata": {},
     "output_type": "execute_result"
    },
    {
     "data": {
      "image/png": "[encoded data removed]",
      "text/plain": [
       "<Figure size 432x288 with 1 Axes>"
      ]
     },
     "metadata": {},
     "output_type": "display_data"
    }
   ],
   "source": [
    "x = ['user_mention', 'url', 'hashtag', 'mixed tweet']\n",
    "y = [user_mention, url, hashtag, english_and_japanese]\n",
    "sns.barplot(x, y)"
   ]
  },
  {
   "cell_type": "code",
   "execution_count": 135,
   "id": "4adfd021-42f0-431b-a1c9-e2f53a17b078",
   "metadata": {},
   "outputs": [
    {
     "data": {
      "text/plain": [
       "['ただ、WoDシリーズはPCの立場そんなによくないからバッドエンドルートも普通にありうるのがまあその。PCはこう動きました。で、NPCはこういう人ですよね。PCの立場は高くないのでひどいことになりますね。処す？処す？？？とか。',\n",
       " '【TRPG】\\nエラッタが話題になっていますね\\n私はエラッタに感謝しています\\nエラッタのお陰で、Wordにコピペする・読みやすくするという作業を苦なく練習できるようになりましたので\\nスクショ?あれは容量を逼迫する悪だよ\\nコピーしてルルブやファイルに挟む\\n増えたらまたコピペ印刷して挟む\\n良いタスク',\n",
       " 'N〇Kの背景が\\n\\nもし、この展開が今のおじいちゃん、おばあちゃんが納得するのなら\\n間違ってますね\\n\\n＃僕のグレハジメ\\n\\n酷くない、＃おかえりモネ からのニュースはそれか…\\n\\nネトウヨ向けですか？\\n\\nあー、飲みすぎてないです🆘',\n",
       " '昨日は二度と見れないカラーのスカイツリーを撮ってきたが、まさかのデジカメ調子悪くとりあえずiPhone撮影(･∀･) https://t.co/ua0ZfUTLAL',\n",
       " 'USB Type-Cは難しすぎるよね。\\nお金で解決。\\n\\nhttps://t.co/zAAX37G3ER',\n",
       " '@atata_death 旬は旬でもw',\n",
       " '月曜日はループTRPG！秋を迎えたキッズ達の冒険の始まりだ！友人の母親の不倫疑惑現場に乗り込んで困惑。スウェーデンの秋の描写が寒そうなのも良き。',\n",
       " '@413GOD 行ける時に行かなきゃx\\n夏は待ってくれないわ〜♬(ノ゜∇゜)ノ♩\\n\\n最近こんなんばっかり求めてコンビニツアーしてるから…太りそうで怖い😓',\n",
       " 'Amazonで買ったアルコールディスペンサーが購入1ヶ月で故障。\\nセンサーが壊れ、噴霧が止まらなくなり、中のアルコールが空に。ついには電源すら入らなくなった。\\n#粗悪品\\n#買ってはいけない\\n#ゴミ https://t.co/6nO6Or4Os6',\n",
       " '17年夏の松竹が思い入れのある現場ベスト5に入るくらいには好きでお芝居の役もそうだしBring it onの群舞めちゃくちゃ好きだったなーって。待望のNewcomer西さーん😭',\n",
       " '手回し発電機がガラケーとタイプBのケーブルついてて時代にそぐわない',\n",
       " 'Q.男性から言われてドキッとする台詞は？ A.ふん、そうねぇ。やっぱり装身具を褒められるのがいいんじゃないの？は？たとえば？そりゃ............リボンが似合ってる、とか。 #琴里bot',\n",
       " '@ga081kut0hdni87 ギンガマッコウなら水着トロン、フォE、GS、黒ゼロ、素フェラム等のシールドキャラをメタれるので潮吹きマンかなり安定するんですw\\nセカンドはギガクラのダメージ出るまでに殴れば無敵になれるのでいいんですがWCSで倒されること多いのと、ファルコンはおっしゃる通り近づく前に削られますね〜',\n",
       " 'オークションより、かんたんなフリマアプリ【メルカリ】をはじめたよ♪会員登録時に招待コード「RKMEVN」を入れると、300円分のポイントがもらえるよ',\n",
       " 'ボカロP特集！番組あるある\\n\\nボーカロイドが出てこない',\n",
       " 'Twinkleで見学席にくるえび。塚田くんがだてさくの手をひいて立たせてそのまま踊るすの。塚田くんがステージに戻る時に宮舘の手を引っ張って連れて行こうとするのでびっくりする宮舘。無事に戻った宮舘のことを見て隣に座っていた佐久間が笑う。【2014えびコン見学】',\n",
       " '惑星Zoolg三大勢力の一角チッキュ族の偉大なる酋長トムン・プー。彼のオーラに包まれると、どんな生き物も敵意をなくし友好的になるという。彼のアドバイスが主人公の運命を大きく変えていく…\\nhttps://t.co/QEvBYbivzj … https://t.co/UemAoCI5Bd',\n",
       " 'snow「 …ある男の人が、私にフラれたフラれた…って、言ってるんだけど、\\n付き合った記憶もなければふった覚えもないんだけど… 」\\n\\nモネ「 君さー雨なんじゃないかなー 」',\n",
       " '@pomekogame おはようございます😀自分も今日も明日も明後日も仕事です。頑張ってるので貧乳に応援お願いしたいです🤲誰がとかでは無いです😜セーフ？まだセーフ？www',\n",
       " '@peach_passion18 そして、あと４wで後期突入だね！😚\\n7ヶ月ってなんかもうすぐって感じがするぅーー😍💓\\n\\nお外に出て遊ぶために鍛えてるのかもっ🤣✨可愛すぎる❤️',\n",
       " '手回し発電機がガラケーとタイプBのケーブルついてて時代にそぐわない',\n",
       " '開港「N・モーガンの奇跡」',\n",
       " 'ユニクロの即ポチ案件なTシャツ https://t.co/WvZs32mA1n',\n",
       " 'オークションより、かんたんなフリマアプリ【メルカリ】をはじめたよ♪会員登録時に招待コード「RKMEVN」を入れると、300円分のポイントがもらえるよ',\n",
       " '黒板消し係の深沢です。ガンダムと同じくらい黒板愛してますo(^_-)O',\n",
       " '大人ぶっ、大人びっ、おとな、大人ぶってなぁぁあ言えない、ごめん、なさいwww\\n\\nビバ！僕らの夏休み！「ぼくのなつやすみ」を実況プレイ part1',\n",
       " '惑星Zoolg三大勢力の一角チッキュ族の偉大なる酋長トムン・プー。彼のオーラに包まれると、どんな生き物も敵意をなくし友好的になるという。彼のアドバイスが主人公の運命を大きく変えていく…\\nhttps://t.co/QEvBYbivzj … https://t.co/UemAoCI5Bd',\n",
       " 'snow「 …ある男の人が、私にフラれたフラれた…って、言ってるんだけど、\\n付き合った記憶もなければふった覚えもないんだけど… 」\\n\\nモネ「 君さー雨なんじゃないかなー 」',\n",
       " 'ソミとかまひろとか元JYPまじで可愛いなって思ってたけど推しのアシャも元JYPだ…元JYP好みなのか…',\n",
       " '『時代遅れの教育をどう未来に進めていけるのか？』ホンダアツシ独演会vol.12 #子育て #教育 #山口県 #学校 #教師 \\n\\nhttps://t.co/g6Hyk9uzTt',\n",
       " '@kouzai2007 &gt;中国の横暴を批判してる\\nそれ、中国共産党要人へ直に批判したのですか？\\nアリバイ作りみたいにマスコミに記事にしてもらった感じですよね。\\n批判するなら要人相手に面と向かって言わないと価値ないよ',\n",
       " 'BLEACHは破面篇まではちゃんと読んでたワイ将、感覚を対魔忍レベルに引き上げられながら散ったザエルアポロが出てくるって情報だけで読み切り読みたくなってくる',\n",
       " 'スマホRPGは今これをやってるよ。今のジョブはこれ！ https://t.co/xXA55RUBut',\n",
       " '・TIPS\\nバディリンクを活用しよう\\nカメラのスティックを押し込むと、一定範囲内にサークルが現れ\\nその中で他のプレイヤーがR3を押すとそのプレイヤーとバディを組むことが出来る\\nバディを組むと、バディの動きや状況、狙っている点を把握できるので、フレンドと組むことをオスス #MGO',\n",
       " 'iPhoneを2年で買い換えろ https://t.co/fH0ySORwed',\n",
       " '誰ロク、私以外の3人がセッションに向けて曲作ってくれたりバンドロゴも作ってくれたりで探索者の性格やら経歴やらはマジでバラバラだったんですけど「このバンドを良いものにしよう！」という気持ちは探索者もPLも共通して持っており、最終的に凄く良いセッションになったと思います  ありがとうね',\n",
       " '👼🏻優羽⚔yu🍣🍻さんの配信ルームにチャットに来て、ボーナスを獲得しましょう! 新規ユーザーが私の招待コード124456541を入力すると、さらにサプライズがありますよ！\\nhttps://t.co/VfFss3hfga https://t.co/YRzYI47CYU',\n",
       " '2021年の目標、\"合計300Pぶんの同人誌を出す\"だったからあと60P描かなきゃいけないんだよな（……）',\n",
       " '@misa_21club リプライ失礼します！吉原と言います🙇\\u200d♀️お手隙の際に是非dmいただきたいです\\n\\n📀大手AVプロダクション、中小プロダクション多数扱っているのでピッタリのプロダクションをご紹介させていただきます（もし興味ありましたら）\\n\\n💴連日完売続きの一推し風俗店即日ご紹介可能です！即日10万円以上可能です🙇\\u200d♀️',\n",
       " 'ドライバーとアプリインストールして、PCからローテータの制御ができる事を確認したら、今度は愛用のLogger32と接続💡\\nローテーターの設定、バンドモード設定にローテーター番号設定、地図設定してローテーターポートオープン👍\\nお～‼️コールサイン入力してALT+A叩くとビームがその局方向に自動回転🆗 https://t.co/eD7hAFBpDN',\n",
       " '＃KazJリーグ\\n 1週間延期されて再開したリーグ戦\\n今節はガンバ大阪と戦う。現在チームは絶不調と苦しいが今節で連敗を止めたい。\\n注目は田中達也だ。現実では1G2Aの大活躍をしたガンバ戦でKazJの方でも古巣相手に活躍が期待される\\n予想スタメン↓ https://t.co/gbuhDYIDaD',\n",
       " '@neko_neko_rina 私たちでファンマのリストのところ荒らした会話を復活させるか？ww',\n",
       " 'CanareやHosaのスピコンケーブルをみて(アレは貴族の持ち物。我々庶民は切り売りのスピーカーケーブルをバインディングにねじ込むのがお似合いですよ)と思ってたんですが、Classic proのスピコンの値段見てちょっと真顔になった後\\n(それってだいじょうぶなんですか？)ってなってる。',\n",
       " '筒井さんのMK5は可愛かったが、こういうので喜んでるから舐められるんじゃないかという気もしていて素直に楽しめない。',\n",
       " '#おはようVtuber \\n\\nGood morning virtuality.\\n\\nこの世の全ての抜けのいい楽器のVSTiが手元に集まらないかと、宝くじぐらいの感覚で思い続けてます。あと、物理モデリングタイプの楽器がもっと増えないか、とも思ってます。\\n\\n音楽は無限大',\n",
       " 'ニリキナ、ボストンが獲ってくれないかな。ニリキナ&amp;スマートの絵図に憧れる',\n",
       " '静岡にも遂にマンボウか〜(T ^ T)\\nイベントも中止か延期か（泣）',\n",
       " '今日はMACボタニックパニック✨\\nスカートの柄に合わせてイエローを使いたいなぁ、と思いながら色々してたら、レインボーアイが完成してた🌈\\n朝からハッピーな気分😊\\n#今日のメイク \\n#MAC\\n#虹メイク https://t.co/0q9WXpB17A',\n",
       " 'Amazon Musicで見つけたダフト・パンクを紹介します。 \\n\\n音MADにされる曲を聴くようになる人間なのでこれもすき\\nhttps://t.co/pxcVFkpcPE #AmazonMusic',\n",
       " '@kakashisab (´-﹃-`)Zｚ…カッシーさん……美味しそう……(お菓子になったカッシーさんを食べようとしてる夢)',\n",
       " '理不尽にも吹き飛んだおじさんデザインのアバター作ってからすまニキもついにVtuberデビューかあ（）',\n",
       " '@Mirageofanoasis\\nキャンペーンへのご参加ありがとうございました！当選された方にはDMでご連絡します。\\n\\n-------------\\n・デイリーヤマザキ\\n・ヤマザキデイリーストアー\\n・ニューヤマザキデイリーストア \\nで抽選で600名様にQUOカード500円分が当たるキャンペーン実施中🎵\\nhttps://t.co/jVEZo7mny2 https://t.co/G8V3MDeTgT',\n",
       " 'PCR検査が有効なのはプライマーの特異性が保証されている時だけ。\\nDNA鑑定には使える。',\n",
       " 'はっ！POTATOしょうかいもしてる！\\nいっつも近くにいる2人だって☺️',\n",
       " '時短『西野亮廣Voicy』8月5日\\n\\n男と女の嫉妬は種類が違う。\\n男の嫉妬は社会的。女の嫉妬は恋愛的。男は群れの中では強く無ければならないので、自分よりも強い人に\\n嫉妬してしまう。アンチを思い浮かべると分かりやすい。自分より下の人にアンチ活動はしないのでアンチ＝嫉妬。https://t.co/qsgfSonW88',\n",
       " '前編途中でモチベめっちゃ下がってたんだけど、エピローグからはめっちゃ上がってる☺️ネタバレ自ら見に行ってさらにUP👍',\n",
       " '前々から思ってたんだが、そーか共産党etc言う人達は何がしたいんだろう？\\n言った相手が本当にそーか共産党だった場合:その人達にとってはそーか共産党であることは誇りなので侮辱にならない\\n言った相手がそーか共産党でなかった場合:「何言ってんだこいつ」としか思わない。\\n何がしたいのか？🤔',\n",
       " '@Nojigiku_Diary Nojiさんは\\nボーナスいっぱいだから\\n私に分けないとね☺️',\n",
       " 'REQUEST @kingandprince_j @MTV #FridayLivestream\\n\\nKing &amp; Prince ♡☆\\n\\n僕らのGreat Journey ✩ Namae Oshiete\\nMagic Touch ✩ Beating Hearts  ✩ \\nI promise ✩ 恋降る月夜に君想ふ\\n\\nHOKU_459',\n",
       " '@taniken5735 あたしもそー思うwww',\n",
       " '元気のＧは始まりの自慰wwwwwwwwwwwwwwwくっそwwwwwwwwwwwwwwwwwwwwwwww',\n",
       " '「…うん、そだよね。愛棒だもんね？」bot',\n",
       " 'Reinbow_92\\u3000録音しないやつとかないわ～まじくそだわ～',\n",
       " '@hana_hamstar 僕の方がにゃんこ達に幸せにしてもらってる気がしますw そいえば、錆猫ちゃんはお腹にハートマークがあるんですよ♪ https://t.co/zM3aYSwzjV',\n",
       " '@Bt_2jimin4s やべぇ🤣🤣🤣くっそ笑ってるwww\\nおまえ何やらかしたんだよwwwパク苦笑いしちゃって目も合わせてくれてないじゃんwwwwww',\n",
       " '@earlgrey_BAR イヤホン忘れると、そーなるよね…ww(゜▽゜)',\n",
       " '@523183jnp 雄叫び練習🤣www旦那さんセンスあるなwww\\n大丈夫そ？までジュノンになるからやめて🤚\\nもう無理そ🤦\\u200d♀️w 爆イケすぎでしょ\\n祭りの開始じゃー🥺💓💓💓💓',\n",
       " '@S9wdZr2whCayNTX oh、そーなのか…\\nはるきさんは面白いよ！',\n",
       " '@light_with20 そやな！！wwwwwwwwwwww',\n",
       " 'これは格好いい。Perfumeを通して見てきたMIKIKO先生の演出家としての凄さが、並べられた画像からでも感じられる。MIKIKO先生を、この\"原作\"に携わった人達の仕事を世界に見て欲しかった。\\n\\n幻の“MIKIKOチーム版”五輪開会式を完全再現！【電子版オリジナル】 #週刊文春 https://t.co/OKHZlRGOrQ',\n",
       " '因子とレオとLJLで忙しかったから、サラダ油云々がリアル事件と勘違いしてたわ\\n今やっと理解した',\n",
       " '4000食が13万食に膨れ上がってて卒倒。SDGsとは…？？？？\\nこども食堂とかホームレスの方に配るという発想はなかったの？コロナ禍で食いつなぐのに必死な人もいるのに。ご飯を粗末にする人みんな罰当たれ😇 https://t.co/rJpqJJLWkI',\n",
       " 'これを読んで、（当時はまだそんな言葉は無かったと思うが）MIGTOW的な反応を示す人をいくらか見たし、自分もそうした考えに一理あると考えたことを思い出す。\\n\\nただ今思えばこの上野の論はまだ温情があり、現代の自称フェミニストはギャルゲーの自由さえ認めない程に過激化している。 https://t.co/E95HprnCuL',\n",
       " 'Qキングの第一印象はどうでしたか?\\nA恥ずかしい話ですが、自分が学生時代に「こういう風に生きたかった」という立ち回りをキングは自然にやるので、どこか収録しながら心地よかった印象があります。実際に学校にあの髪型と銃を制服に忍ばせていたら･･･おっと、誰か来たようだ。（杉田智和）',\n",
       " '2020TOKYOオリンピック\\n開催した事は良かったと思うが\\nあまりにも開会式も閉会式もショボ過ぎた。',\n",
       " '昨日の夜マジで酒うまかったwwwwwwwww',\n",
       " 'そもそもFF3の敵って鈍足とかそういうのなかったからw',\n",
       " 'blenderのcycles、グラボあんま関係ないくらい重かった(ΦωΦ)\\n昔はグラボに設定するとめちゃくちゃ描画早くなった感じしたけど',\n",
       " '@szmt0629 駅着く前に強くなって着いた頃に弱くなって欲しかったわ(&gt;_&lt;)笑笑',\n",
       " 'USJのホラーナイトは2019年も凄かった✨イケメンDJと最前列でラタタダンス♪\\nhttps://t.co/09VERbNfcI\\n#ホラーナイト\\n#ハロウィン\\n#USJ\\n#ラタタダンス',\n",
       " 'うんうん楽しかったmysweet❤️ https://t.co/idAmYQ9uqK',\n",
       " '☆*:.シンガポールに公演に行った時MTVにて「はいっ、あ、yes」と咄嗟に日本語が出たウングァンですよ〜',\n",
       " '【ライブラにて・4】K.K「レオっちって何でザップっちなんかに惚れたの？」「姐さん、なんかってなんすか」「うーん……バカで屑だけど……かっこいいところかな。顔が」「顔かよ！」「顔だけはいいですからねーザップさん。あはは」K.K（ラブラブで何より）',\n",
       " 'やっぱり体フラフラの視界グルグルで絶不調www\\n元気も食欲もあるねんけどなぁあ？？？',\n",
       " 'あやな🐵🌏AYANAさんの配信ルームにチャットに来て、ボーナスを獲得しましょう! 新規ユーザーが私の招待コード123366534を入力すると、さらにサプライズがありますよ！\\nhttps://t.co/1kZ27Cf1dj https://t.co/1aHf2ygKvt',\n",
       " '@yoongi_kana 私はパソコンでやってるんだけど、PS4でできるかなー？？\\n↓このサイトだよ✨\\nhttps://t.co/iXLhgq0p2I\\nマグマね‼️よくあちちってなってるよ〜🤣',\n",
       " '@t28marchan あはは、ド、ドM？笑\\n\\nはい、良い１日を😌👍',\n",
       " 'mashiroさま。菊さま。あり坊さま。maachanさま。あいみさま。\\nリツイートのご協力ありがとうございます🙇\\u200d♀️',\n",
       " '顔隠されても声よwwwww\\nあ、ラヴィット合流しました、',\n",
       " '全然GMATやる気が起きない 一日30問くらい解いて「あ、ムリ」って過食に走り始めた',\n",
       " 'あいこん@kitunetonekosk https://t.co/o8ITLEoCBz',\n",
       " 'ABCおやすみのよていです。\\nじゃねぇんだよ!\\nくたばれ!',\n",
       " 'say1109 い',\n",
       " '@yuu_olympic2020 MIRAI、そう言われてみればそうですね😅私も初日何も分からない状態で1回乗れただけで、後はずっとプリウスです。乗りたくても乗れない方がいらしたのはお気の毒。MIRAIの乗車回数を限定してもよかったかもしれませんね😆',\n",
       " '生徒会がねちっこいOLみたいでキモいの草\\n#トロピカル～ジュプリキュア #precure #nitiasa #tvasahi',\n",
       " 'Twitterのプロフィール20代コンタクト女子のままやった     30代いえーい！に突入！！！',\n",
       " 'てーい!!！PCからキャス配信中 -  / こいん消費 https://t.co/wSkxgyFcv0',\n",
       " '@yu_uy227 他人がされたファンサが嫌って人たまに見かけたりしますけど、まぁ…そういう人も居るのか…くらいにしか思ってませんでしたが……わざわざあんな感じ悪い言葉をつかって匿名で送ってくる精神がヤバいなと思いましたw',\n",
       " 'うすっぺらい感想しか話せなくて情けないけど本当に歌がうまくて気持ち良いNCTのバラードが大好きなんですよね',\n",
       " 'bioにID載せるのきもいな',\n",
       " '春の宮島とゆるーいハルのシカさんよ。｜adamayokuy @adamayokuy #note #スキしてみて #potofu #yukoyamada #filmphtoography https://t.co/RWX5S6VV6L',\n",
       " \"かき氷に使用しているいちごのピューレの容器（容量10kg）が可愛くて捨てられないのですが、\\n欲しい方いませんか？( 'ω')/ 🍓\\n\\nスタッキングもできるし、フタをして重ねられるし、半透明で中身も把握しやすいかと✨\\U0001faa3💕 https://t.co/TdH52pOQqH\",\n",
       " '@HARU_GAME30 昨日もさんきゅー🥳パンダはいなかったことにしよう……🥺🥺w\\n次回は建築回でお願いします🙇\\u200d♂️\\n楽しかった🥰',\n",
       " '@nandemoyaruyo_i スパイス探すのとか楽しそうだよねw\\nあー食べたーい🤤🤤',\n",
       " '空港で目撃「日本のコロナ、ヤバい」中国人が先を争い日本脱出中(JBpress)\\n#Yahooニュース\\nhttps://t.co/2FfuL3bTj8',\n",
       " '@Nico7mr 聞かせて下さぁ〜いw\\nHave a great Sunday',\n",
       " \"大学生によるブログ「きゃんぱす.info」꒰◍'౪`◍꒱۶✧˖°大学ごとに楽しい記事や写真がいーっぱい☆閲覧数で１位～３位が決まるよ！あ、管理人も一応ブログ書いてます…(･:ﾟдﾟ:･)ﾊｧﾊｧ\\n\\nどっとわーくキャンパス\\n→https://t.co/qJwVslEBJL\",\n",
       " '@furuyaume 生意気なチビヴィンが好きなのとチビヴィンにゲンコツかますアルヴィンが大好きすぎて！！ww でもこの話が出来上がるキッカケがまさかの「チビヴィン描きたい」とは思わなかったですww 好きなネタをしっかり原作に絡めて話を構成できる描き手さんめーーっちゃくちゃ尊敬します🙏✨',\n",
       " '..。bot..。ぼ\\u3000く\\u3000の\\u3000す\\u3000き\\u3000な\\u3000あ\\u3000な\\u3000た\\u3000♡',\n",
       " 'DigitalCuko\\u3000ぜくと！！！！！！',\n",
       " 'かる～く拡散希望：TV5XQ/SJ/SNSD/SHINee/F(x)/EXO大好きな方は気軽にフォローしてください^^/',\n",
       " '増Gのために3箱とニビルのために2個かなストラク5000円いるくないか？これ',\n",
       " 'アイコンをドラケンかバジクンにしたいけど、誰かわからんくなりそうだしTLで自分を見失いそう',\n",
       " 'ht「電車のドアのとこにある『ドアーにご注意ください』っていう注意書きが部分的に削られて『\\u3000アー\\u3000\\u3000汗\\u3000く\\u3000さい』になってた。すごいセンスだなと思ったよ」',\n",
       " '家のWiFiぶっ壊れた？？？？\\nWiFi使えんの？？？\\nちょっと待って、それはやばいよ。\\nWiFiが繋がらんくなったんやけど？って言いながら部屋にヅカヅカ入られて、BL本いっぱい入ったカバン持ち上げられてめちゃくちゃﾋｭｯてなった🥶\\n寝てたのにめちゃくちゃ目覚めたわ\\n\\n尚、未だに直ってません🔧',\n",
       " 'マジで逃げ🧹恥のみく🚺りがmriくんで、平👓匡さんが夢主みたいな、逆のラブコメが書きたい',\n",
       " 'ヤバリンピック、ほんとにヤバくてずっと笑ってたw',\n",
       " '@_only__am ynsくん、くぼはるきくん↩︎ジャンル全く違う（）',\n",
       " '@lullymiura 重篤な人だけ入院すればいいんですよ、基本は家で寝ていればOKです、これくらいの病。\\n歴史上、ペストやスペイン風邪は人口を減らしたとされてますが、2020年、コロナなんて世界人口増えてるじゃないですか。間もなく80億人突破しますよ。あほくさ。']"
      ]
     },
     "execution_count": 135,
     "metadata": {},
     "output_type": "execute_result"
    }
   ],
   "source": [
    "from contained_english import tweets_the_number_of_mixed_tweet\n",
    "tweets_the_number_of_mixed_tweet(tweets_list)"
   ]
  },
  {
   "cell_type": "code",
   "execution_count": null,
   "id": "ade27fe9-c3c0-46a2-9877-a26c4737bdb7",
   "metadata": {},
   "outputs": [],
   "source": []
  }
 ],
 "metadata": {
  "kernelspec": {
   "display_name": "Python 3",
   "language": "python",
   "name": "python3"
  },
  "language_info": {
   "codemirror_mode": {
    "name": "ipython",
    "version": 3
   },
   "file_extension": ".py",
   "mimetype": "text/x-python",
   "name": "python",
   "nbconvert_exporter": "python",
   "pygments_lexer": "ipython3",
   "version": "3.8.8"
  }
 },
 "nbformat": 4,
 "nbformat_minor": 5
}
