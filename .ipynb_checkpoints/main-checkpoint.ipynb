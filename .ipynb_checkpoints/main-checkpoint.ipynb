{
 "cells": [
  {
   "cell_type": "code",
   "execution_count": 1,
   "metadata": {},
   "outputs": [],
   "source": [
    "%load_ext autoreload\n",
    "%autoreload 2"
   ]
  },
  {
   "cell_type": "code",
   "execution_count": 2,
   "metadata": {},
   "outputs": [],
   "source": [
    "import matplotlib.pyplot as plt\n",
    "import seaborn as sns\n",
    "\n",
    "%matplotlib inline\n",
    "sns.set()"
   ]
  },
  {
   "cell_type": "code",
   "execution_count": 3,
   "metadata": {},
   "outputs": [],
   "source": [
    "from tweets_list import loadJoblib\n",
    "\n",
    "tweets_list = loadJoblib(\"lst.joblib\")"
   ]
  },
  {
   "cell_type": "code",
   "execution_count": null,
   "metadata": {},
   "outputs": [],
   "source": [
    "from remove import *\n",
    "\n",
    "removed_new_line_marks = remove_new_line_marks(tweets_list)\n",
    "removed_new_line_marks_all_blanks = remove_all_blanks(removed_new_line_marks)\n",
    "\n",
    "removed_mention= remove_usermention(removed_new_line_marks_all_blanks)\n",
    "\n",
    "removed_usermention = []\n",
    "\n",
    "for tweet in removed_mention:\n",
    "     while re.search(r'@[0-9a-zA-Z_]{4,14}', tweet) is not None:\n",
    "            an = re.search(r'@[0-9a-zA-Z_]{4,14}', tweet)\n",
    "            start = an.span()[0]\n",
    "            end = an.span()[1]\n",
    "            tweet = str(tweet[:start]) + str(tweet[end:])\n",
    "    removed_usermention.append(tweet)\n",
    "\n",
    "removed_usermention_url = remove_url(removed_usermention)\n",
    "removed_usermeniton_url_hashtag = remove_hashtag_words(removed_usermention_url)\n",
    "len(removed_usermention)"
   ]
  },
  {
   "cell_type": "code",
   "execution_count": 6,
   "metadata": {},
   "outputs": [
    {
     "name": "stdout",
     "output_type": "stream",
     "text": [
      "ぺ@1\n",
      "おはようございます、8月21日土曜日の朝、天気晴れ、臨時休業明け、ご迷惑をおかけしました、 https://t.co/kd2q8NvkOn @YouTubeより\n",
      "ルーレット回しました🌼前から繋がってるffさん最近繋がったffさんはじめましての方から1人ずつでとりあえず3人決定🐶💭りなちぴぃちゃんhi-koさん@jss5eoOLI9OsExc\n",
      "˗ˏˋ    🍯ぷぅ&amp;えむ🍼るーむ    ˎˊ˗🗓  8/22㈰  ⏰  23:00 #23時👥  #スクワッド💸  1000×P @Reve_puu↳𝙵𝙾𝙻𝙻𝙾𝚆＆𝚁𝚃《応+代+参全員》連責❣️✏️チーム名/@ありなし/一言/🍼💌本日 22日の交換枠はDMまで💌#交換枠 #賞金ルーム https://t.co/NX54NjK3OR\n",
      "梅田サイファー ft OSCA, KOPERU, ふぁんく, KennyDoes&amp; テークエム - リズム天下一武道会 at.210504 服部... https://t.co/6QpMLvorpJ @YouTubeより\n",
      "#Twitterの家系図ですお父さん：えりんぎお母さん：クライス配偶者：kumaneco弟：りそ*妹：赤枠神@ 応援団長 https://t.co/sw37SFngBCほとんど性別逆で草そしてえりんぎさんの子供なのは変わらないみたい\n",
      "きょうのレツ@みいち推しさんhttps://t.co/x1h4GO2j8V【ぱーぷるちぇる】が出ました。傘を忘れないように。ラッキーアイテム：水晶玉#shindanmakerhttps://t.co/0FaTxvV5c9\n",
      "🐰ろっぷいやあああァァァ！！！かわいいー！！子供の頃すごいアレルギー出たので見るだけでしたが、姉の家でネザーランド（小さいタイプ）飼ってたので話などから、「鳴かないけど足でズダンダン訴える」と聞きますwあと、大賀一五さん（@taiga15）とこいくと多分🐰生態のあるある見れそう。 https://t.co/VVHleDsThN\n",
      "ちぴちゃん！@cptn_p_p\n",
      "うーぱーるーぱーさん🍀🦋🌈おはようございますヾ(@^▽^@)✌️☕️🍀🌈今日もコロナに気をつけて素敵な週末を過ごしてね✩°｡⋆⸜(*˙꒳˙*  )⸝🦋🍀🦋🍀🌈今日もよろしくお願いします👼m(__)m\n",
      "笑ってしまった…【大喜利】オリンピックの没競技【えばQ】 https://t.co/IHaZVHC3tH @YouTubeより\n",
      "V最協S3カスタムで初チャンピオンを獲るざりがにいるか【エクスアルビオ / 小森めと / 西園チグサ / ざりがにいるか / V最協S3カスタム】 https://t.co/SiLdCowzTz @YouTubeより\n",
      "おはようそらちぃー！@sorapon0506\n",
      "ゆかふぁるく徹甲帰還@2集まり次第〜\n",
      "#好きすぎてずっと一緒にいたい人1位もぐ2位こうみ🏖🌺@ 活動休止中3位(ナナ)ﾘｱ学7期出るのが夢✨4位ツキノワ•シロクマ🌙🐻‍❄️5位みんみん🦖💛（明子）6位琉夏7位ももたわん🐶🌷8位… https://t.co/NbEJakKwaK\n",
      "【すいくはん】【編集長稲垣吾郎】（文化放送）水曜日21:30-22:00宛先→〒１０５－８００２文化放送「編集長稲垣吾郎」メール→goro@joqr.net☆公式サイト→https://t.co/8QUlI4Fbb2※各コーナーお便り募集中\n",
      "#8月21日(土) 22:001000×p(ぺ)詳細ツイないのでメメ君までDMを٩(*´︶`*)۶出    21日土曜日        22:00求    23日月曜日        22:00/22:30/23:00条件なし統一@3#8月21日 #22時#スクワッド #賞金ルーム https://t.co/LV6HM7r6KD\n",
      "91再生まで来た〜！！100までもうちょい！【VTuber/切り抜き】ぴえんのゲームで発狂する青刺める【PIEN/青刺める】 https://t.co/3OKG58dG17 @YouTubeより\n",
      "らーめん (@ 高松空港 - in 高松市, 香川県) https://t.co/gCF0K7jsmW\n",
      "熱いブームが到来中のボードゲーム。今、遊ぶべき面白いボードゲームをずばり紹介！ボードゲーム通がおすすめするボードゲームを一挙紹介する『おとなが愉しむボード... https://t.co/R9ukpJSoa1 @PRTIMES_JPより#ボドゲ#ボードゲーム #ドイツ年間ゲーム大賞\n",
      "月亭太遊『LAじおDEんぱ』新作落語 ※たいちゃんの「ユーモラスラジオ」より抜粋 https://t.co/5fOYhZn2mP @YouTubeより どなたも指摘されませんが、若妻の店は何のお店なのかしら？\n",
      "【にじさんじ切り抜き】APEXでの、葛葉・叶・魔界ノりりむ・甲斐田 晴・ボドカの茶番場面まとめ⑤ https://t.co/4PBWCHqLrC @YouTubeより\n",
      "空白ごっこ - ハウる（Music Video） https://t.co/Jyt9dtmINY @YouTubeより空白ごっこすき。ﾌｫﾛﾜｯｻﾝ刺さる人多そう\n",
      "こ…ここは…🎾 (@ 大和町総合運動公園テニスコート in 大和町, 宮城県) https://t.co/foIPM8psmF\n",
      "半からえぺ募集@2カジュアル〜\n",
      "2021 もてぎ7時間耐久レース”もて耐” https://t.co/fm22CeWtmm @YouTubeより\n",
      "https://t.co/ZZJ8XyynR8これ知ってる？↓興味あればここから参加できるよ！⬇⬇⬇⬇⬇@_okaneNAVI_○○○■■☞ ☞\n",
      "VALIS、念願の初ワンマンライブを全編無料配信でお届けしたい！ - うぶごえ｜掲載手数料0円 国内最高品質のクラウドファンディング https://t.co/fmoNxToJJc #うぶごえ @VALIS_Officialより\n",
      "【試聴動画】Guilty Kiss First LOVELIVE! ～New Romantic Sailors～ Blu-ray Memoria... https://t.co/wXCsnCXKnH @YouTubeよりやっっぱNRSの振りコピなんだよなー！w楽しすぎるわね...\n",
      "【VTuber】magnet（猫ゐ咲夜＆お狐様ゆいの）【歌ってみた】 https://t.co/WXEkapYvv2 @YouTubeより\n",
      "みんなで見よう！👶🍓まちこ🦢🍭 -(@_@)❗️おやちけ https://t.co/ykXI999VkI #ポコチャ\n",
      "【#胡桃のあ新衣装】✨新衣装お披露目会✨【ぶいすぽ/胡桃のあ​】 https://t.co/HTmfFm2hjL @YouTubeよりかわいちゅぎ…こうやってぶいちゅーばーにハマってくんかなみんな…のあちゃんに出会わせてくれたしゅ3ありがとうな🙏\n",
      "😡あなたが怒った時の怖さレベル😡┏子犬 ⬅【ぱぐぴぐたこ@おんなのこ？】┣注射┣ヤンキー┣ゴキブリ┣ヤンデレ┣猛獣┗鬼#怒ったあなたの怖さはこの位 https://t.co/QC4tN9uePz子犬、、、\n",
      "尾崎豊～街角の風の中～ https://t.co/kJ5j6Zg3OV @YouTubeより🎵この曲、めちゃ好き\n",
      "夜もすがら君想ふ -5キー 歌ってみた（cover）【うっちー】 https://t.co/SrCvfMWIDD @YouTubeよりうっちーさんのYouTube曲！！\n",
      "利尻富士！ (@ 浜勇知展望休憩施設 こうほねの家 in 稚内市, 北海道) https://t.co/jyLghvAPGA https://t.co/VCezVZiVfG\n",
      "iPhoneユーザーは絶対見てください。Apple ID乗っ取り問題への”２つの対処法”をお伝えします【被害報告が続出中】 https://t.co/9Hs1dLriKr @YouTubeより\n",
      "【告知】『あなたの専門、素人の私に教えてください！』第17回「著作権法」8/21(土) 21:00～ゲスト：じゃこにゃー(@Jakotsunya)法律系Vのじゃこにゃーさんから、著作権法の基礎について学びます🐤💗ぜひぜひご来場いただけますと嬉しいです😆🎵(待機所はリプ欄)#専門かかぽ https://t.co/7XWaA6Zhtg\n",
      "空気がぬるぽ (@ 札幌駅 in 札幌市, 北海道 w/ @kamekuma1223803) https://t.co/YOslggwSd7\n",
      "これまたすごいね。ゲームできる人間だったらやってるわー。【ワールドトリガーコラボ】非公式の神ゲーを世界初実況プレイする【コーヒーモンキーズ】 https://t.co/fl71OlhnqR @YouTubeより\n",
      "#もう一押しで落ちる@SHION025：壁ドンすればOK@taro06_jinro：姿を見せるだけでOK@jinrow_friends：足を踏みつければOK@takanawa：ばきゅ～んとやればOK https://t.co/MXYh9Q0k1cしおさんに壁ドン身長差的に厳しそうw\n",
      "おお@@元気そうでございますね^^それなら安心でございます。嬉しい報告・・もしや・・おば〇〇ゃ〇?まず元気で暮らしてくれてれば良いです^^忘れるわけありませーん🥰🥰🥰\n",
      "【はんこ屋@ やっぱり自粛しなきゃだめ🤔に対してこう思っている】@januaryfamily「恋人にしたい」@moto3623「あー、居たな、そんな奴」@frochoo_RC「撫で撫でしたい」「…#フォロワー本音 https://t.co/8gcO3KU4ET\n",
      "るぅとくん先程は個人枠お疲れ様でした(*ˊ˘ˋ*)今からお休みされるんですね！ゆっくりお休みくださいませ💛12時からのコラボ枠は予備校と被っていて見られないのですが全員集合楽しみにしています( *´꒳`*)💛@root_nico_2\n",
      "ちっぷ(@stkumachip)さんのぬいぐるみが…あるのに今更気が付いた…かわ…😊💘い、いつかお迎えするからな～🐻\n",
      "おはようございまぷー🐾と、見せ掛けてずっと起きてたのでちょっとだけ寝まぷー🐾🐾😪@shampoo0725\n",
      "#ウインドボーイズ ！飯塚ミナトの #担当楽器はトランペット だと思います！ @windboys_PRをフォローして、クイズキャンペーンに参加しよう！抽選で5名様に #Amazonギフト券 プレゼント🎁 番組はこちら→https://t.co/Pf6OaP2avg #ウインボ\n",
      "【焼肉きんぐ】2021年８月20日(金)より『焼肉きんぐ』新CMがスタート‼️テーマは「焼肉は自由だ！」 https://t.co/z7RlAexj6F @PRTIMES_JPより\n",
      "【穴までうまし】史上最高のドーナツ How to cook donuts【漫画飯】 https://t.co/D50KE6hIgL @YouTubeよりリクエスト🍩作ってもらったー！うまそお！！！！！ドーナツ食いたくなってきたあー！😆😆😆\n",
      "【初見歓迎！】勉強しながら雑談໒꒱·̩͙ 佐藤めぷ@ルキグラ奇行種走り 配信中!! #REALITY https://t.co/uXVsiUViXU\n",
      "つきさっきとれたくりっぷ見たい人@2ぐらい\n",
      "動画2つ目。すたみなさんはお眠。55km走破 #あむ100 #あむあむWORLD＃2【100kmマラソン】すたみな大罰ゲーム～夏休みだ!走りまくれ!!～ https://t.co/nUvZRF0FBO @YouTubeより\n",
      "王様であーる❗😀🎀プレゼントキャンペーン当選発表ぞよよ！🎀ロイヤルファミリー優待措置につき@gGmJdOo95JppoPD殿当選ぞよ！😆👑🎀おめでとうぞよ！😄ワーハッハ‼️😁👑🕌\n",
      "『キャプテン・アメリカ』第4弾、主演はサム役アンソニー・マッキー！ https://t.co/9s3QbaZ2UN @cinematodayよりマジだった！やったじぇ！！楽しみ\n",
      "そもそも保安林ですしかも県の森林計画書には保全すべき保安林と位置づ11の分割は太陽光発電事業所としての分割ですが造成的には1団地とし宅地造成等規制法ではなく林地開発として取り扱うべきではないでしょうか太陽光発電施設の土地は保安林？https://t.co/pZ1XDQGV5l @YouTubeより\n",
      "みゆうたん久しぶり(｡•ㅅ•｡)♡ (@ 上野公園 野外ステージ 水上音楽堂 in 台東区, 東京都) https://t.co/BOnSPEbWol https://t.co/svqToHDVBs\n",
      "王冠 ⠀⠀ : ⠀⠀ 𝔂ㅤ ؛⠀ㅤou  ㅤ#  ャ  ㅤ𝕤  __  @.hㅤ்ㅤould ㅤ  ⼓ ㅤ sᥱᥱ mᥱ ın ɑ #𝐂 ㅤㅤ¿¿ㅤㅤ𝐑𝐎𝐖𝐍 ㅤㅤ[ㅤꜜㅤw⃝    ɑtch mᥱ ㅤㅤ❜ ㅤ  ❨ ㅤmınhчuk fr. monstɑ xㅤ❩  ㅤmɑ  づ ⠀kᥱ ㅤ'ᥱm ㅤㅅㅤ 𝗯𝗼𝘄ㅤㅤㅤ# 𝑫𝑨𝑹𝑲𝑬𝑺𝑻  __ 𝑯𝑶𝑼𝑺𝑬 https://t.co/IFiY8yWaI2\n",
      "◆チーム11ぎんがむ @ GiNGAM_FN凪乃ゆづ餅 @ 7747yuzねたないと @ Actere_◆チーム12がにすん @ gr8ganisun花天月地_Nissy @ KG_Nissyひがし @ s_higashiyama_◆チーム13四季 夜緻 @ ShikiYoichiマルキ @ maruki10imoaN/Naomi @ naomi_ak\n",
      "すげぇフィジカルとメンタル(ﾉ∀`) 「亡命のために泳いできた」ロシア人男性が北海道に(2021年8月21日) https://t.co/ayQ3gEG7lz @YouTubeより\n",
      "【定期】垢移動しました。しまぐにしか呟かないアカウントになりますがよろしければお気軽にどうぞ～ @ sunglijong\n",
      "今日の顔ヨガは、こちらから復習できま～～す。免疫力あーーーーっぷ！！のほかにも、お顔の美容にはもちろん、嚥下障害防止効果や、口臭予防にも効果的✨お口の中に潤いを!!https://t.co/0aNJAkoqch#golf897  #interfm897 #ゴルフヨガ  @takekoyama@mikiimai@MidoriPf1@GreenJacket897\n",
      "#あなたを好きな人を予想する #アプリメーカー・だい@ ◥Ψ(￣ ￣)Ψ◤・ローソン公式返信用アカウント・真白もも🍑らぺ〜しゅ・いてまえ・餡樹@ ただのぽんこつ https://t.co/G3xPfTKOCV\n",
      "#あなたのそばにいる人は #アプリメーカーいつも通り：HinaHina帰省：ｼｵﾉﾏﾕ💭💭💭ゲーム：大澤菜々子 @ TA女子恋人といる：佐藤美雪あなたの元へ行く：うさぎみく https://t.co/XUCF0oycl6\n",
      "これ言うつもりだったんだwww福島県民の日に生まれたやんぼさんお誕生日おめでとうございます🎉🎉🎉🎂🎂🎂@yanbo_spoon\n",
      "【Jump King】Babe of Ascensionで遊ぶ #5 https://t.co/4aYOgHPdUJ @YouTubeより\n",
      "7ORDER 「SUMMER様様」 MUSIC VIDEO https://t.co/0N9Z8ORlJo @YouTubeより Mステさん頼むゎ\n",
      "✨本日出勤✨貴女の専属エロ整体師極上の癒しとえろを堪能できます❗️お顔と腹筋のギャップにどハマり間違いなし✨つき（@tsuki_kichi_H)ご予約お待ちしております♪HP https://t.co/APlOaX9a63#東京秘密基地#恵比寿秘密基地#女性用風俗 https://t.co/aPkKNbjS6w\n",
      "(((じどー)))無言ぽろにはぽろばしない主義です！ぽろば希望の方は@くださいな！\n",
      "いいよー！すばらさんよていあるんかな@AirBreakerT\n",
      "〔 8/21 20日目 〕☀️▽参加者不破湊4日目の不破湊10日目の不破湊16日目の不破湊18日目の不破湊ティファニー▽コメント欄○曲ラジオ体操第二久しぶりのソロも面白かった✨【#にじさんじラジオ体操部】にじライバー健康計画２０日目【にじさんじ】 https://t.co/nQD9aWl6EW @YouTubeより\n",
      "仲良しな２人に無事うちむ便🐥💛(ネームセンスw)届いたみたいでよかった...🥰💖もう住所も知ってるから送りつけるの簡単でついつい、お揃いのもの買っては送りつけちゃう(迷惑)🐥💛笑早く２人に会いたいー🥺💖💖ボラへ！！！(@omc_nm0613)🐨💜 ()🐿️🐱🐰💜 https://t.co/Qn6OT1WDWj\n",
      "#多分あなたのツイートをたくさん見てる人１位：カラ蔵２位：✾朱華✾《DUSGS》🔰３位：瑠璃４位：ギャリユウチャンネル５位：MEEEEEN(メーン)６位：ユウ@ ギャリユウチャンネル７位：サち🎀*°８位：… https://t.co/LGgrvEbVj3\n",
      "目がクルクルします(@o@)ゎ~\n",
      "#あなたが愛を送りまくっているアカウント #アプリメーカー＿人人人人＿＞１位＜白椛りゐふ。￣Y^Y^Y^￣２位：そあら@ みらてぃぶ３位：ありんこ(ありこ)🐜４位：しおん５位：ちゅーる６位：₹ƕ༨ﾞ… https://t.co/gB7bgWbNbH りーふくんじゃん\n",
      "昨夜 配信した ダンメモ2部ですちくわわくん新しくなったこともあってまた初めから撮り直してます もしよかったら見てみてくださいダンメモ４周年イベント2部 「アエデス・ウエスタ」♯０９ https://t.co/dTXGcud2aS @YouTubeより\n",
      "私はおうち時間を「#レゴボックス」で楽しむ！こんな時こそ、おうち時間を楽しもう🏡抽選は毎日！イケアキャンペーンアカウント（@IKEA_Campaign）で8/29まで実施中❗️ #IKEA #イケア #ikeajapan #イケアとおうち時間\n",
      "あいりさんおはようございます☀️😃❗今日も１日大変ですけどお互いに頑張って👊😆🎵いきましょう！体調管理には十分に気を付けて下さい！今日も素敵な１日を！ありがとうございました！@airi_kijima\n",
      "そして、スノ達の現場の前にAぇ達の現場で会えたみんな〜☺️♥️@___216renとりあえず、ゆうちゃん、はるちゃん以外はAぇのカラーのハートにした🥺✨笑次はスノの現場で会えますよーに😌💙 https://t.co/HHMQcg6nUC\n",
      "今日のおは☆ココは八田さん(@yata1104)のイラストを使わせていただきました🌈🦄\n",
      "りょうすけGamesさん、面白すぎ ... ぱいなぽーさんにボロクソ言われた件ｗｗｗｗ【スプラトゥーン2】 https://t.co/LicTrle2q6 @YouTubeより\n",
      "SoundPEATS の 【「VGP 2021」金賞】 SOUNDPEATS TrueAir2 ワイヤレスイヤホン QCC3040チップセット搭載 TrueWireless Mirroring対応 Bluetooth 5.2 完全ワイヤレス イヤホン aptX コーデック対応 4-mic cVc ノイズキャンセリン... を Amazon でチェック！ https://t.co/t5sM12YhmJ @amazonより\n",
      "#shib は爆上げ期待ですか？🤔@Shibtoken\n",
      "#スガ政権を詠む句会#あいうえお時事川柳 無毛は無症で入院できるが無二の子無齢で入滅す@sankeikoho@ABEMA@kakuteruakihttps://t.co/ETEaCsfPXg\n"
     ]
    }
   ],
   "source": [
    "count = 0\n",
    "\n",
    "for tweet in removed_usermention:\n",
    "    if re.search(r'@', tweet) is not None:\n",
    "        print(tweet)"
   ]
  },
  {
   "cell_type": "markdown",
   "metadata": {},
   "source": [
    "# User Mention ○"
   ]
  },
  {
   "cell_type": "code",
   "execution_count": null,
   "metadata": {},
   "outputs": [],
   "source": [
    "from count_the_number import count_the_number_of_user_mention\n",
    "\n",
    "user_mention_cnt, user_mention_list = count_the_number_of_user_mention(tweets_list)\n",
    "user_mention_cnt"
   ]
  },
  {
   "cell_type": "markdown",
   "metadata": {},
   "source": [
    "# URL○"
   ]
  },
  {
   "cell_type": "code",
   "execution_count": null,
   "metadata": {},
   "outputs": [],
   "source": [
    "from count_the_number import count_the_number_of_url\n",
    "\n",
    "url_cnt, url_list = count_the_number_of_url(tweets_list)\n",
    "url_cnt"
   ]
  },
  {
   "cell_type": "markdown",
   "metadata": {},
   "source": [
    "# ハッシュタグ"
   ]
  },
  {
   "cell_type": "code",
   "execution_count": null,
   "metadata": {},
   "outputs": [],
   "source": [
    "from count_the_number import count_the_number_of_hashtag\n",
    "\n",
    "hashtag = count_the_number_of_hashtag(tweets_list)\n",
    "hashtag"
   ]
  },
  {
   "cell_type": "markdown",
   "metadata": {},
   "source": [
    "# 英語・日本語(#を除いて考えた場合)"
   ]
  },
  {
   "cell_type": "code",
   "execution_count": null,
   "metadata": {},
   "outputs": [],
   "source": [
    "from contained_english import count_the_number_of_mixed_tweet\n",
    "\n",
    "contained_cnt, contained_list = count_the_number_of_mixed_tweet(removed_usermeniton_url_hashtag)\n",
    "contained_cnt"
   ]
  },
  {
   "cell_type": "markdown",
   "metadata": {},
   "source": [
    "# 英語・日本語(#後の英語も含む)"
   ]
  },
  {
   "cell_type": "code",
   "execution_count": null,
   "metadata": {},
   "outputs": [],
   "source": [
    "contained_cnt2, contained_list2 = count_the_number_of_mixed_tweet(removed_usermention_url)\n",
    "contained_cnt2"
   ]
  },
  {
   "cell_type": "markdown",
   "metadata": {},
   "source": [
    "# 分析"
   ]
  },
  {
   "cell_type": "code",
   "execution_count": null,
   "metadata": {},
   "outputs": [],
   "source": [
    "x = ['User Mention', 'URL', 'Hashtag', 'alphabet', 'alphabet\\n(removed #)' ]\n",
    "y = [user_mention_cnt, url_cnt, hashtag, contained_cnt2, contained_cnt]\n",
    "\n",
    "sns.barplot(x, y)"
   ]
  },
  {
   "cell_type": "markdown",
   "metadata": {},
   "source": [
    "# wの検討"
   ]
  },
  {
   "cell_type": "code",
   "execution_count": null,
   "metadata": {},
   "outputs": [],
   "source": [
    "from count_the_number import count_the_number_of_w\n",
    "\n",
    "count_the_number_of_w(removed_usermeniton_url_hashtag)"
   ]
  },
  {
   "cell_type": "code",
   "execution_count": null,
   "metadata": {},
   "outputs": [],
   "source": [
    "for idx, tweet in enumerate(removed_usermention_url):\n",
    "    try:\n",
    "        if tweet[-1] == 'w':\n",
    "            pass\n",
    "    except:\n",
    "        print(tweet)"
   ]
  },
  {
   "cell_type": "code",
   "execution_count": null,
   "metadata": {},
   "outputs": [],
   "source": [
    "removed_usermention_url"
   ]
  },
  {
   "cell_type": "code",
   "execution_count": null,
   "metadata": {},
   "outputs": [],
   "source": [
    "removed_usermeniton_url_hashtag"
   ]
  },
  {
   "cell_type": "code",
   "execution_count": null,
   "metadata": {},
   "outputs": [],
   "source": []
  }
 ],
 "metadata": {
  "kernelspec": {
   "display_name": "Python 3",
   "language": "python",
   "name": "python3"
  },
  "language_info": {
   "codemirror_mode": {
    "name": "ipython",
    "version": 3
   },
   "file_extension": ".py",
   "mimetype": "text/x-python",
   "name": "python",
   "nbconvert_exporter": "python",
   "pygments_lexer": "ipython3",
   "version": "3.7.4"
  }
 },
 "nbformat": 4,
 "nbformat_minor": 4
}
