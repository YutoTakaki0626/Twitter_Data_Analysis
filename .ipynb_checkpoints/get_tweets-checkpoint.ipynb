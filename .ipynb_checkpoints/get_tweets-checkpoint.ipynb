{
 "cells": [
  {
   "cell_type": "code",
   "execution_count": 16,
   "id": "0618fed7",
   "metadata": {},
   "outputs": [
    {
     "name": "stdout",
     "output_type": "stream",
     "text": [
      "The autoreload extension is already loaded. To reload it, use:\n",
      "  %reload_ext autoreload\n"
     ]
    }
   ],
   "source": [
    "%load_ext autoreload\n",
    "%autoreload 2"
   ]
  },
  {
   "cell_type": "code",
   "execution_count": 17,
   "id": "ca3ed6d7",
   "metadata": {},
   "outputs": [
    {
     "name": "stdout",
     "output_type": "stream",
     "text": [
      "Requirement already satisfied: tweepy in /opt/anaconda3/lib/python3.7/site-packages (3.10.0)\n",
      "Requirement already satisfied: requests-oauthlib>=0.7.0 in /opt/anaconda3/lib/python3.7/site-packages (from tweepy) (1.3.0)\n",
      "Requirement already satisfied: six>=1.10.0 in /opt/anaconda3/lib/python3.7/site-packages (from tweepy) (1.12.0)\n",
      "Requirement already satisfied: requests[socks]>=2.11.1 in /opt/anaconda3/lib/python3.7/site-packages (from tweepy) (2.22.0)\n",
      "Requirement already satisfied: oauthlib>=3.0.0 in /opt/anaconda3/lib/python3.7/site-packages (from requests-oauthlib>=0.7.0->tweepy) (3.1.1)\n",
      "Requirement already satisfied: urllib3!=1.25.0,!=1.25.1,<1.26,>=1.21.1 in /opt/anaconda3/lib/python3.7/site-packages (from requests[socks]>=2.11.1->tweepy) (1.24.2)\n",
      "Requirement already satisfied: chardet<3.1.0,>=3.0.2 in /opt/anaconda3/lib/python3.7/site-packages (from requests[socks]>=2.11.1->tweepy) (3.0.4)\n",
      "Requirement already satisfied: idna<2.9,>=2.5 in /opt/anaconda3/lib/python3.7/site-packages (from requests[socks]>=2.11.1->tweepy) (2.8)\n",
      "Requirement already satisfied: certifi>=2017.4.17 in /opt/anaconda3/lib/python3.7/site-packages (from requests[socks]>=2.11.1->tweepy) (2019.9.11)\n",
      "Requirement already satisfied: PySocks!=1.5.7,>=1.5.6 in /opt/anaconda3/lib/python3.7/site-packages (from requests[socks]>=2.11.1->tweepy) (1.7.1)\n",
      "\u001b[33mWARNING: Running pip as the 'root' user can result in broken permissions and conflicting behaviour with the system package manager. It is recommended to use a virtual environment instead: https://pip.pypa.io/warnings/venv\u001b[0m\n"
     ]
    }
   ],
   "source": [
    "!pip install tweepy"
   ]
  },
  {
   "cell_type": "code",
   "execution_count": 18,
   "id": "8a227d0e",
   "metadata": {},
   "outputs": [],
   "source": [
    "from datetime import timedelta\n",
    "import pandas as pd\n",
    "import tweepy"
   ]
  },
  {
   "cell_type": "code",
   "execution_count": 19,
   "id": "d6bcc625",
   "metadata": {},
   "outputs": [],
   "source": [
    "API_KEY = '0GsNw5d9mzyrVOowhuagLwh51'\n",
    "API_SECRET_KEY = 'jRjfnzb2qjUr0OnNDX4B5O8U59xMSr3oSADnNSS7ahZPand4mj'\n",
    "ACCESS_TOKEN = '1358712503149076480-WbW3LHknJCa14tVKdRQsPIIotfZyfo'\n",
    "ACCESS_TOKEN_SECRET = 'DroLyd0VZWpE48Ze9u7UJL5uObIcV77myQ0Z1ahbrLzVU'"
   ]
  },
  {
   "cell_type": "code",
   "execution_count": 20,
   "id": "3451b11a",
   "metadata": {},
   "outputs": [],
   "source": [
    "from api import twitter_api\n",
    "from search import get_search\n",
    "import random"
   ]
  },
  {
   "cell_type": "code",
   "execution_count": 21,
   "id": "374fdcb1",
   "metadata": {},
   "outputs": [],
   "source": [
    "list_keyword = [chr(i) for i in range(12353, 12436)]\n",
    "random.shuffle(list_keyword)"
   ]
  },
  {
   "cell_type": "code",
   "execution_count": 22,
   "id": "91ed5533",
   "metadata": {},
   "outputs": [],
   "source": [
    "api = twitter_api(API_KEY, API_SECRET_KEY, ACCESS_TOKEN, ACCESS_TOKEN_SECRET)\n",
    "\n",
    "# for idx, keyword in enumerate(list_keyword):\n",
    "#    for n in range(19, 22, 1):\n",
    "#        search = get_search(api, keyword, \"2021-08-{}\".format(n), \"2021-08-{}\".format(n+1))\n",
    "#        idxmax = search.groupby(\"user_id\").tweet_created_at.idxmax()\n",
    "#        tweets = search.iloc[idxmax]\n",
    "#        tweets.to_csv('data/get_data/tweets_data{}_date{}.csv'.format(str(idx), str(n)))"
   ]
  },
  {
   "cell_type": "code",
   "execution_count": 23,
   "id": "aed0356d",
   "metadata": {},
   "outputs": [],
   "source": [
    "tweets_list = []\n",
    "\n",
    "for number in range(65):\n",
    "    for date in range(19, 22, 1):\n",
    "        df = pd.read_csv('data/get_data/tweets_data{}_date{}.csv'.format(str(number), str(date)))\n",
    "        for tweet in list(df['tweet_full_text']):\n",
    "            tweets_list.append(tweet)"
   ]
  },
  {
   "cell_type": "code",
   "execution_count": 24,
   "id": "4957bfed",
   "metadata": {},
   "outputs": [
    {
     "data": {
      "text/plain": [
       "18995"
      ]
     },
     "execution_count": 24,
     "metadata": {},
     "output_type": "execute_result"
    }
   ],
   "source": [
    "len(tweets_list)"
   ]
  },
  {
   "cell_type": "code",
   "execution_count": 25,
   "id": "b9dd9d3c",
   "metadata": {},
   "outputs": [],
   "source": [
    "tweets_list = list(set(tweets_list))\n",
    "random.shuffle(tweets_list)"
   ]
  },
  {
   "cell_type": "code",
   "execution_count": 26,
   "id": "13c7d44e",
   "metadata": {},
   "outputs": [
    {
     "data": {
      "text/plain": [
       "14416"
      ]
     },
     "execution_count": 26,
     "metadata": {},
     "output_type": "execute_result"
    }
   ],
   "source": [
    "len(tweets_list)"
   ]
  },
  {
   "cell_type": "code",
   "execution_count": 27,
   "id": "e01d15dc",
   "metadata": {},
   "outputs": [
    {
     "data": {
      "text/plain": [
       "10000"
      ]
     },
     "execution_count": 27,
     "metadata": {},
     "output_type": "execute_result"
    }
   ],
   "source": [
    "tweets_list = tweets_list[:10000]\n",
    "len(tweets_list)"
   ]
  },
  {
   "cell_type": "code",
   "execution_count": 28,
   "id": "91f62c5f",
   "metadata": {},
   "outputs": [],
   "source": [
    "from tweets_list import dumpJoblib, loadJoblib\n",
    "\n",
    "dumpJoblib(\"tweets_list/tweets_list.joblib\", tweets_list)"
   ]
  },
  {
   "cell_type": "code",
   "execution_count": 29,
   "id": "1fe341a4",
   "metadata": {},
   "outputs": [
    {
     "data": {
      "text/plain": [
       "10000"
      ]
     },
     "execution_count": 29,
     "metadata": {},
     "output_type": "execute_result"
    }
   ],
   "source": [
    "lst = loadJoblib(\"tweets_list/tweets_list.joblib\")\n",
    "len(lst)"
   ]
  }
 ],
 "metadata": {
  "kernelspec": {
   "display_name": "Python 3",
   "language": "python",
   "name": "python3"
  },
  "language_info": {
   "codemirror_mode": {
    "name": "ipython",
    "version": 3
   },
   "file_extension": ".py",
   "mimetype": "text/x-python",
   "name": "python",
   "nbconvert_exporter": "python",
   "pygments_lexer": "ipython3",
   "version": "3.8.2"
  }
 },
 "nbformat": 4,
 "nbformat_minor": 5
}
