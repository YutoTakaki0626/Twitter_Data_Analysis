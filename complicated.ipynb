{
 "cells": [
  {
   "cell_type": "code",
   "execution_count": 1,
   "id": "b94981e7-803d-45b0-b543-8553598da814",
   "metadata": {},
   "outputs": [],
   "source": [
    "%load_ext autoreload\n",
    "%autoreload 2"
   ]
  },
  {
   "cell_type": "code",
   "execution_count": 2,
   "id": "c4612571-c6d6-41e5-831a-428921b9939b",
   "metadata": {},
   "outputs": [],
   "source": [
    "import matplotlib.pyplot as plt\n",
    "import seaborn as sns\n",
    "\n",
    "%matplotlib inline\n",
    "sns.set()"
   ]
  },
  {
   "cell_type": "code",
   "execution_count": 5,
   "id": "14180672-2eda-476b-b9e2-31e1c3be47f8",
   "metadata": {},
   "outputs": [],
   "source": [
    "from tweets_list import *\n",
    "from remove import *"
   ]
  },
  {
   "cell_type": "code",
   "execution_count": 8,
   "id": "77edc693-2495-483c-bce1-f5189592cd5b",
   "metadata": {},
   "outputs": [],
   "source": [
    "removed_usermention = loadJoblib(\"list/removed_usermention.joblib\")\n",
    "removed_usermention_url = remove_url(removed_usermention)\n",
    "removed_usermeniton_url_hashtag = remove_hashtag_a_series_of_words(removed_usermention_url)"
   ]
  },
  {
   "cell_type": "markdown",
   "id": "7745ef17-79f6-428a-9967-a3f2a717864c",
   "metadata": {},
   "source": [
    "# 英語・日本語(#後の英語も含む)"
   ]
  },
  {
   "cell_type": "code",
   "execution_count": 11,
   "id": "0fe80d4b-aafe-4604-8765-bba015a776eb",
   "metadata": {},
   "outputs": [
    {
     "data": {
      "text/plain": [
       "2063"
      ]
     },
     "execution_count": 11,
     "metadata": {},
     "output_type": "execute_result"
    }
   ],
   "source": [
    "from contained_english import count_the_number_of_mixed_tweet\n",
    "contained_cnt, contained_list = count_the_number_of_mixed_tweet(removed_usermention_url)\n",
    "contained_cnt"
   ]
  },
  {
   "cell_type": "markdown",
   "id": "f8a96970-aec8-4c88-9cef-5660bd0951f6",
   "metadata": {},
   "source": [
    "# 英語・日本語(#を除いて考えた場合)"
   ]
  },
  {
   "cell_type": "code",
   "execution_count": 12,
   "id": "1a8ff4c1-55b6-4440-87cc-ab061391e242",
   "metadata": {},
   "outputs": [
    {
     "data": {
      "text/plain": [
       "1991"
      ]
     },
     "execution_count": 12,
     "metadata": {},
     "output_type": "execute_result"
    }
   ],
   "source": [
    "contained_cnt2, contained_list2 = count_the_number_of_mixed_tweet(removed_usermeniton_url_hashtag)\n",
    "contained_cnt2"
   ]
  },
  {
   "cell_type": "markdown",
   "id": "ed39ec08-e067-41c8-beb8-b5e19a2ea5cb",
   "metadata": {},
   "source": [
    "# 英単語２文字以上"
   ]
  },
  {
   "cell_type": "code",
   "execution_count": 16,
   "id": "63562ff0-1395-40cd-a20e-e47272154b50",
   "metadata": {},
   "outputs": [
    {
     "data": {
      "text/plain": [
       "1549"
      ]
     },
     "execution_count": 16,
     "metadata": {},
     "output_type": "execute_result"
    }
   ],
   "source": [
    "from count_the_number import count_the_number_of_not_single\n",
    "\n",
    "not_single_list = count_the_number_of_not_single(removed_usermeniton_url_hashtag)\n",
    "not_single_list_cnt = len(not_single_list)\n",
    "not_single_list_cnt"
   ]
  },
  {
   "cell_type": "markdown",
   "id": "ba4b5a0d-40b8-456c-830c-050144cc6ee8",
   "metadata": {},
   "source": [
    "# 検討"
   ]
  },
  {
   "cell_type": "code",
   "execution_count": 9,
   "id": "65454da1-13a4-4fbf-8112-5390f5642484",
   "metadata": {},
   "outputs": [],
   "source": [
    "def double_list(tweets_list):\n",
    "    '''\n",
    "    英単語２文字以上のものをかぞえる\n",
    "    '''\n",
    "\n",
    "    not_single_list = []\n",
    "\n",
    "    for tweet in tweets_list:\n",
    "        if re.search(r'[A-Z][A-Z]+', tweet) is not None:\n",
    "            not_single_list.append(tweet)\n",
    "            \n",
    "    return not_single_list"
   ]
  },
  {
   "cell_type": "code",
   "execution_count": 13,
   "id": "70f597bb-bebc-49d4-9757-b40ec20aa5d2",
   "metadata": {},
   "outputs": [],
   "source": [
    "ls = double_list(removed_usermention_url)\n",
    "#ls"
   ]
  },
  {
   "cell_type": "code",
   "execution_count": 14,
   "id": "897bb71a-e3e8-4db8-bba0-c12888a52c6f",
   "metadata": {},
   "outputs": [],
   "source": [
    "def head_list(tweets_list):\n",
    "    '''\n",
    "    大文字＋小文字のものをかぞえる\n",
    "    '''\n",
    "\n",
    "    not_single_list = []\n",
    "\n",
    "    for tweet in tweets_list:\n",
    "        if re.search(r'[A-Z][a-z]+', tweet) is not None:\n",
    "            not_single_list.append(tweet)\n",
    "            \n",
    "    return not_single_list"
   ]
  },
  {
   "cell_type": "code",
   "execution_count": 16,
   "id": "0836e5dc-107a-48b6-bc01-304b6e65550f",
   "metadata": {},
   "outputs": [],
   "source": [
    "lsh = head_list(removed_usermention_url)\n",
    "#lsh"
   ]
  },
  {
   "cell_type": "code",
   "execution_count": 19,
   "id": "3b39014e-989c-4b40-838c-cab84380dab2",
   "metadata": {},
   "outputs": [],
   "source": [
    "def hashtag_english(tweets_list):\n",
    "    '''\n",
    "    #英語 のものをかぞえる\n",
    "    '''\n",
    "\n",
    "    not_single_list = []\n",
    "          \n",
    "    for tweet in tweets_list:\n",
    "        kara = []\n",
    "        while re.search(r'#[a-zA-z_]+', tweet) is not None:\n",
    "            an = re.search(r'#[a-zA-z_]+', tweet)\n",
    "            start = an.span()[0]\n",
    "            end = an.span()[1]\n",
    "            english = str(tweet[start:end])\n",
    "            kara += english\n",
    "        not_single_list.append(kara)\n",
    "            \n",
    "    return not_single_list"
   ]
  },
  {
   "cell_type": "code",
   "execution_count": null,
   "id": "712abae2-8bb9-4b3a-a407-63e6dd1136c0",
   "metadata": {},
   "outputs": [],
   "source": [
    "li = hashtag_english(removed_usermention_url)"
   ]
  },
  {
   "cell_type": "code",
   "execution_count": null,
   "id": "099df755-e647-4060-aadc-81426c9ec11d",
   "metadata": {},
   "outputs": [],
   "source": [
    "def"
   ]
  }
 ],
 "metadata": {
  "kernelspec": {
   "display_name": "Python 3",
   "language": "python",
   "name": "python3"
  },
  "language_info": {
   "codemirror_mode": {
    "name": "ipython",
    "version": 3
   },
   "file_extension": ".py",
   "mimetype": "text/x-python",
   "name": "python",
   "nbconvert_exporter": "python",
   "pygments_lexer": "ipython3",
   "version": "3.8.2"
  }
 },
 "nbformat": 4,
 "nbformat_minor": 5
}
