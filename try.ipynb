{
 "cells": [
  {
   "cell_type": "code",
   "execution_count": null,
   "metadata": {},
   "outputs": [],
   "source": [
    "from remove import remove_hashtag\n",
    "from remove import remove_usermention\n",
    "from remove import remove_url\n",
    "\n",
    "removed_hashtag_tweets = remove_hashtag(tweets_list)\n",
    "removed_hashtag_and_usermention = remove_usermention(removed_hashtag_tweets)\n",
    "fixed_tweets = remove_url(removed_hashtag_and_usermention)"
   ]
  },
  {
   "cell_type": "code",
   "execution_count": null,
   "metadata": {},
   "outputs": [],
   "source": []
  }
 ],
 "metadata": {
  "kernelspec": {
   "display_name": "Python 3",
   "language": "python",
   "name": "python3"
  },
  "language_info": {
   "name": ""
  }
 },
 "nbformat": 4,
 "nbformat_minor": 4
}
