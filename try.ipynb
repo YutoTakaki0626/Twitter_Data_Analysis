{
 "cells": [
  {
   "cell_type": "code",
   "execution_count": 1,
   "id": "199a2d83-efd7-4d5a-b7fd-89da055618d6",
   "metadata": {},
   "outputs": [],
   "source": [
    "%load_ext autoreload\n",
    "%autoreload 2"
   ]
  },
  {
   "cell_type": "code",
   "execution_count": 2,
   "id": "89ba1663-461e-4d8c-a2aa-98f0e5187ffb",
   "metadata": {},
   "outputs": [],
   "source": [
    "import matplotlib.pyplot as plt\n",
    "import seaborn as sns\n",
    "\n",
    "%matplotlib inline\n",
    "sns.set()"
   ]
  },
  {
   "cell_type": "code",
   "execution_count": 3,
   "id": "99dfb91a-0a76-4f81-9e3e-03f6f0451005",
   "metadata": {},
   "outputs": [],
   "source": [
    "from tweets_list import *\n",
    "from remove import *"
   ]
  },
  {
   "cell_type": "code",
   "execution_count": 5,
   "id": "64f79e4e-b5a9-4b98-bb40-b21d86b8470f",
   "metadata": {},
   "outputs": [],
   "source": [
    "from tweets_list import loadJoblib\n",
    "\n",
    "tweets_list = loadJoblib(\"list/tweets_list.joblib\")\n",
    "\n",
    "removed_new_line_marks = remove_new_line_marks(tweets_list)\n",
    "removed_new_line_marks_all_blanks = remove_all_blanks(removed_new_line_marks)\n",
    "\n",
    "removed_usermention = loadJoblib(\"list/removed_usermention.joblib\")\n",
    "removed_usermention_url = remove_url(removed_usermention)\n",
    "removed_usermeniton_url_hashtag = remove_hashtag_a_series_of_words(removed_usermention_url)"
   ]
  },
  {
   "cell_type": "code",
   "execution_count": 16,
   "id": "549f4863-f3ed-4135-bc6d-23cba66e10d6",
   "metadata": {},
   "outputs": [
    {
     "data": {
      "text/plain": [
       "['【拡散希望】「ちがいを ちからに 変える街。」渋谷から障がいのある人が書（描）いた文字を、デザインを学ぶ学生とコラボし生まれた #シブヤフォントみんなの期待を背負って、#Googleフォント として 世界へ！ 日本で生まれた障がいのある人の可能性！世界へ羽ばたけ！',\n",
       " 'TVアニメ「#DrSTONE」と #モンスト がコラボ！「石化復活液」を集めて、石神千空、クロム、コハクを仲間に！クエストで、紅葉ほむら、氷月、西園寺羽京、あさぎりゲンが登場！霊長類最強 獅子王司も出現！そそるぜ、これは！！仲間と一緒に「ストーンワールド」へ出航しよう！ ',\n",
       " 'なんかもう、気を抜いたら嵐の末っ子潤くんいつも可愛すぎて美しすぎてしんどい！！大好きだよ！！らぶゆー！！みたいな完全ヤバイ奴のメッセージ送ろうとしそうなのよ笑笑よーく考えておしとやかに丁寧なファンを演じて2つ送ったけど、実際伝えたかったのはこんな感じ↑😂#Enjoy',\n",
       " '#Twitterの家系図ですお父さん：えりんぎお母さん：クライス配偶者：kumaneco弟：りそ*妹：赤枠神@ 応援団長 ',\n",
       " 'おはづまこです(๑╹ω╹๑ )ユナイトやってたら寝るのが遅くなってまだ眠いです😴ウトウトしつつも二度寝を決め込むはづきです…今日も一日ゆったりまったりいきましょう♪#おはようVtuber#Vtuberの靴がみたい他に見たいところあったらリプ下さい✨新規立ち絵ちょこっとだけ見せるかもです☺️ ',\n",
       " 'もはや  に愛されてる… #てらしー さんっ💓 #ワンモ #BlueOcean',\n",
       " 'おはすぷ♥️🌟今日は2回目のワクチンを打ってきます\\U0001f972💦１回目で副反応が凄まじかったから今回はもっと不安だなあ🥺しばらくダウンする覚悟で行ってきます😇でもおちごと休みだから気持ちが楽なの♥️🌟すぷふぁいおー✨#おはようvtuber #新人Vtuberさんと繋がりたい #Vtuberさんと繋がりたい',\n",
       " 'おはようございます😊 昨日の晩ごはんは、パエリア、きのこのブラウンソースで、ちょっとスペイン料理っぽいものでした。とても美味しいです😋 キノコは市販のエリンギ、椎茸、ぶなしめじ、ポルチーニです😊#晩ごはん #おうちごはん #Twitter家庭料理部 #お腹ペコリン部 #料理好きな人と繋がりたい ',\n",
       " '電撃巨人入りの中田翔「トレードで処分解除」はありなのか他球団から不満の声(東スポWeb)#Yahooニュース',\n",
       " 'もう学校休校するか、夏休み延長するかしかないね。但し家庭への金銭的支援や困窮家庭への食糧支援は必須。感染拡大で休園の保育施設、全国で１００か所超に…１０歳未満の感染は第４波の５倍(読売新聞オンライン)#Yahooニュース',\n",
       " '静岡とか富士山近いし南アルプスもアクセスよさそうでいいよね！「登山」をするのに最適だと思う「都道府県」はどこ？(ねとらぼ)#Yahooニュース',\n",
       " '中田翔との別れ――断ち切られたストーリー【えのきどいちろうのファイターズチャンネル#154】(ベースボールチャンネル)#Yahooニュース',\n",
       " '#GhostofTsushimaバージョン2.05にアプデしない方が良いぞぉバグるぞぉw',\n",
       " 'ナイス👍フィロのス奥津マリリがスカート澤部渡に熱烈オファー、ソロ曲「花をください」配信リリース(音楽ナタリー)#Yahooニュース',\n",
       " '横浜市長にしてはダメですね。 #横浜市長選横浜市長選、菅総理側近がゼネコンを“恫喝”小此木八郎への支援を要請…「無礼千万な脅し」(デイリー新潮)#Yahooニュース',\n",
       " 'サンちゃんが一言め発する時に喉の奥でぐるぐるってなる感じがもう声ペンには溜まりません。なのに出てくる声の美しさ。もう無理。ちょこれは誰かきいて。歌を聴くのは当たり前やけどはづのスピーチを聞いて欲しい←#에이티즈#Pentatonix',\n",
       " 'TVアニメ「#DrSTONE」と #モンスト がコラボ！「石化復活液」を集めて、石神千空、クロム、コハクを仲間に！クエストで、紅葉ほむら、氷月、西園寺羽京、あさぎりゲンが登場！霊長類最強 獅子王司も出現！そそるぜ、これは！！仲間と一緒に「ストーンワールド」へ出航しよう！ ',\n",
       " 'パラ指定病院 組織委の要請断る#Yahooニュース ',\n",
       " 'おはちひ！今日は団体チャンネルでとうとうこの日だ！楽しみ！参加者はたぶん、随時募集中なのでギリギリまで諦めるな！今日は1日待ってる#BUGPIPES#Vtuberさんと繋がりたい #Vtuber好きさんと繋がりたい #おはようVtuber#Vtuber準備中#お休みvtuber ',\n",
       " '#ウインドボーイズ ！飯塚ミナトの #担当楽器はトランペット だと思います！ をフォローして、クイズキャンペーンに参加しよう！抽選で5名様に #Amazonギフト券 プレゼント🎁 番組はこちら→',\n",
       " 'きょこは【HO1：看守】貴方は監獄島の最深部にて、たった一人で囚人を監視する看守である。HOを選ぶ目安にどうぞ #CoC_腕すらHO診断 #CoC_腕すらなくとも ',\n",
       " 'いや〜〜じぐ頑張れ！#想い24時間テレビ #神宮寺勇太#KingandPrince',\n",
       " 'TVアニメ「#DrSTONE」と #モンスト がコラボ！「石化復活液」を集めて、石神千空、クロム、コハクを仲間に！クエストで、紅葉ほむら、氷月、西園寺羽京、あさぎりゲンが登場！霊長類最強 獅子王司も出現！そそるぜ、これは！！仲間と一緒に「ストーンワールド」へ出航しよう！ ',\n",
       " '#旭川4月は逃げまくったくせに今更かっこつけポーズ国政への転身を画策しているらしいが、こんなクズばかりが国会議員になるからおかしくなる！旭川女子中学生死亡問題西川市長が市教育委員会に異例の要請「調査の進捗を遺族に伝えて」#Yahooニュース ',\n",
       " '時間帯合う方いたらぜひ(T_T)♡#Apexフレンド募集#Apex募集#Apex女子#Apex募集ps4 #Apex自己紹介カード ※ごーるどよりのぷらちなです ',\n",
       " 'TVアニメ「#DrSTONE」と #モンスト がコラボ！「石化復活液」を集めて、石神千空、クロム、コハクを仲間に！クエストで、紅葉ほむら、氷月、西園寺羽京、あさぎりゲンが登場！霊長類最強 獅子王司も出現！そそるぜ、これは！！仲間と一緒に「ストーンワールド」へ出航しよう！ ',\n",
       " 'んー難しいけど配信ではダメなのかなコロナ禍のフジロック、辞退者と出演者の胸中「判断するきっかけを」「音楽で生計を立てている」（J-CASTニュース）#Yahooニュース ',\n",
       " '＜香取慎吾＞SDGsは「先月くらいに覚えた」？パラアスリートを通じて子どもたちと多様性を語り合う「Nスぺ」がきょう放送(毎日キレイ)#Yahooニュース']"
      ]
     },
     "execution_count": 16,
     "metadata": {},
     "output_type": "execute_result"
    }
   ],
   "source": [
    "def up_down(tweets_list):\n",
    "    '''\n",
    "    大文字＋小文字のものをかぞえる\n",
    "    '''\n",
    "\n",
    "    not_single_list = []\n",
    "\n",
    "    for tweet in tweets_list:\n",
    "        if re.search(r'#[A-Z][a-z]+', tweet) is not None:\n",
    "            not_single_list.append(tweet)\n",
    "            \n",
    "    return not_single_list\n",
    "\n",
    "up_down(removed_usermeniton_url_hashtag)"
   ]
  },
  {
   "cell_type": "code",
   "execution_count": null,
   "id": "05702ec4-5dd8-49a0-99a6-d29410c1096d",
   "metadata": {},
   "outputs": [],
   "source": []
  },
  {
   "cell_type": "code",
   "execution_count": null,
   "id": "0c4e0cd7-501f-41d6-bdac-3d22a09bda5c",
   "metadata": {},
   "outputs": [],
   "source": [
    "from count_the_number import count_the_number_of_hashtag\n",
    "\n",
    "hashtag_cnt, hashtag_list = count_the_number_of_hashtag(removed_usermention_url)\n",
    "len(hashtag_list)"
   ]
  },
  {
   "cell_type": "code",
   "execution_count": null,
   "id": "2d3453c9-ae32-40b1-8bbc-414db5216f13",
   "metadata": {},
   "outputs": [],
   "source": [
    "def head_list(tweets_list):\n",
    "    '''\n",
    "    大文字＋小文字のものをかぞえる\n",
    "    '''\n",
    "\n",
    "    not_single_list = []\n",
    "\n",
    "    for tweet in tweets_list:\n",
    "        if re.search(r'#[A-Za-z]+', tweet) is not None:\n",
    "            not_single_list.append(tweet)\n",
    "            \n",
    "    return not_single_list\n",
    "\n",
    "len(head_list(hashtag_list))"
   ]
  },
  {
   "cell_type": "code",
   "execution_count": null,
   "id": "80d757e9-5ae4-466d-adc0-45584db0307f",
   "metadata": {},
   "outputs": [],
   "source": [
    "head_list(hashtag_list)"
   ]
  },
  {
   "cell_type": "code",
   "execution_count": 17,
   "id": "cd8b48fb-694a-4c2e-9ab0-c1cd872ff48c",
   "metadata": {},
   "outputs": [
    {
     "data": {
      "text/plain": [
       "[23, 4, 5]"
      ]
     },
     "execution_count": 17,
     "metadata": {},
     "output_type": "execute_result"
    }
   ],
   "source": [
    "a = [23, 4, 5, 6]\n",
    "a[:-1]"
   ]
  },
  {
   "cell_type": "code",
   "execution_count": null,
   "id": "a8dc6eac-8f67-49a3-9127-99f36070c316",
   "metadata": {},
   "outputs": [],
   "source": []
  }
 ],
 "metadata": {
  "kernelspec": {
   "display_name": "Python 3",
   "language": "python",
   "name": "python3"
  },
  "language_info": {
   "codemirror_mode": {
    "name": "ipython",
    "version": 3
   },
   "file_extension": ".py",
   "mimetype": "text/x-python",
   "name": "python",
   "nbconvert_exporter": "python",
   "pygments_lexer": "ipython3",
   "version": "3.8.2"
  }
 },
 "nbformat": 4,
 "nbformat_minor": 5
}
