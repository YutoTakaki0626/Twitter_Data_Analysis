{
 "cells": [
  {
   "cell_type": "code",
   "execution_count": 1,
   "metadata": {},
   "outputs": [],
   "source": [
    "%load_ext autoreload\n",
    "%autoreload 2"
   ]
  },
  {
   "cell_type": "code",
   "execution_count": 2,
   "metadata": {},
   "outputs": [],
   "source": [
    "import matplotlib.pyplot as plt\n",
    "import seaborn as sns\n",
    "\n",
    "%matplotlib inline\n",
    "sns.set()"
   ]
  },
  {
   "cell_type": "code",
   "execution_count": 3,
   "metadata": {},
   "outputs": [],
   "source": [
    "from tweets_list import loadJoblib\n",
    "\n",
    "tweets_list = loadJoblib(\"list/tweets_list.joblib\")"
   ]
  },
  {
   "cell_type": "code",
   "execution_count": 4,
   "metadata": {},
   "outputs": [],
   "source": [
    "from remove import *\n",
    "\n",
    "removed_new_line_marks = remove_new_line_marks(tweets_list)\n",
    "removed_new_line_marks_all_blanks = remove_all_blanks(removed_new_line_marks)\n",
    "\n",
    "# removed_usermention = remove_usermention(removed_new_line_marks_all_blanks)\n",
    "removed_usermention = loadJoblib('list/removed_usermention.joblib')\n",
    "removed_usermention_url = remove_url(removed_usermention)\n",
    "removed_usermeniton_url_hashtag = remove_hashtag_a_series_of_words(removed_usermention_url)"
   ]
  },
  {
   "cell_type": "code",
   "execution_count": 5,
   "metadata": {},
   "outputs": [],
   "source": [
    "num = 0\n",
    "tmp = []\n",
    "\n",
    "for tweet in removed_usermention_url:\n",
    "    if tweet not in removed_usermeniton_url_hashtag:\n",
    "        num += 1\n",
    "        tmp.append(tweet)\n",
    "        \n",
    "# tmp[:20]"
   ]
  },
  {
   "cell_type": "code",
   "execution_count": 6,
   "metadata": {},
   "outputs": [],
   "source": [
    "# from tweets_list import dumpJoblib\n",
    "# dumpJoblib('list/removed_usermention.joblib', removed_usermention)"
   ]
  },
  {
   "cell_type": "markdown",
   "metadata": {},
   "source": [
    "# User Mention "
   ]
  },
  {
   "cell_type": "code",
   "execution_count": 7,
   "metadata": {},
   "outputs": [
    {
     "data": {
      "text/plain": [
       "4401"
      ]
     },
     "execution_count": 7,
     "metadata": {},
     "output_type": "execute_result"
    }
   ],
   "source": [
    "from count_the_number import count_the_number_of_user_mention\n",
    "\n",
    "user_mention_cnt, user_mention_list = count_the_number_of_user_mention(removed_new_line_marks_all_blanks)\n",
    "user_mention_cnt"
   ]
  },
  {
   "cell_type": "markdown",
   "metadata": {},
   "source": [
    "# URL"
   ]
  },
  {
   "cell_type": "code",
   "execution_count": 8,
   "metadata": {},
   "outputs": [
    {
     "data": {
      "text/plain": [
       "1564"
      ]
     },
     "execution_count": 8,
     "metadata": {},
     "output_type": "execute_result"
    }
   ],
   "source": [
    "from count_the_number import count_the_number_of_url\n",
    "\n",
    "url_cnt, url_list = count_the_number_of_url(removed_new_line_marks_all_blanks)\n",
    "url_cnt"
   ]
  },
  {
   "cell_type": "markdown",
   "metadata": {},
   "source": [
    "# ハッシュタグ"
   ]
  },
  {
   "cell_type": "code",
   "execution_count": 9,
   "metadata": {},
   "outputs": [
    {
     "data": {
      "text/plain": [
       "799"
      ]
     },
     "execution_count": 9,
     "metadata": {},
     "output_type": "execute_result"
    }
   ],
   "source": [
    "from count_the_number import count_the_number_of_hashtag\n",
    "\n",
    "hashtag_cnt, hashtag_list = count_the_number_of_hashtag(removed_new_line_marks_all_blanks)\n",
    "hashtag_cnt"
   ]
  },
  {
   "cell_type": "markdown",
   "metadata": {},
   "source": [
    "# 絵文字"
   ]
  },
  {
   "cell_type": "code",
   "execution_count": 10,
   "metadata": {},
   "outputs": [
    {
     "data": {
      "text/plain": [
       "3330"
      ]
     },
     "execution_count": 10,
     "metadata": {},
     "output_type": "execute_result"
    }
   ],
   "source": [
    "from tweets_list import loadJoblib\n",
    "\n",
    "emoji_list = loadJoblib(\"list/emoji_only.joblib\")\n",
    "emoji_cnt = len(emoji_list)\n",
    "emoji_cnt"
   ]
  },
  {
   "cell_type": "markdown",
   "metadata": {},
   "source": [
    "# 英語・日本語(#後の英語も含む)"
   ]
  },
  {
   "cell_type": "code",
   "execution_count": 11,
   "metadata": {},
   "outputs": [
    {
     "data": {
      "text/plain": [
       "2063"
      ]
     },
     "execution_count": 11,
     "metadata": {},
     "output_type": "execute_result"
    }
   ],
   "source": [
    "from contained_english import count_the_number_of_mixed_tweet\n",
    "contained_cnt, contained_list = count_the_number_of_mixed_tweet(removed_usermention_url)\n",
    "contained_cnt"
   ]
  },
  {
   "cell_type": "markdown",
   "metadata": {},
   "source": [
    "# 英語・日本語(#を除いて考えた場合)"
   ]
  },
  {
   "cell_type": "code",
   "execution_count": 12,
   "metadata": {},
   "outputs": [
    {
     "data": {
      "text/plain": [
       "1991"
      ]
     },
     "execution_count": 12,
     "metadata": {},
     "output_type": "execute_result"
    }
   ],
   "source": [
    "contained_cnt2, contained_list2 = count_the_number_of_mixed_tweet(removed_usermeniton_url_hashtag)\n",
    "contained_cnt2"
   ]
  },
  {
   "cell_type": "markdown",
   "metadata": {},
   "source": [
    "# wの検討"
   ]
  },
  {
   "cell_type": "code",
   "execution_count": 19,
   "metadata": {},
   "outputs": [
    {
     "data": {
      "text/plain": [
       "517"
      ]
     },
     "execution_count": 19,
     "metadata": {},
     "output_type": "execute_result"
    }
   ],
   "source": [
    "from count_the_number import count_the_number_of_w\n",
    "\n",
    "w_list = count_the_number_of_w(removed_usermeniton_url_hashtag)\n",
    "w_cnt = len(w_list)\n",
    "w_cnt"
   ]
  },
  {
   "cell_type": "code",
   "execution_count": null,
   "metadata": {},
   "outputs": [],
   "source": [
    "from remove import *\n",
    "li = remove_w(removed_usermeniton_url_hashtag)"
   ]
  },
  {
   "cell_type": "code",
   "execution_count": null,
   "metadata": {},
   "outputs": [],
   "source": [
    "li"
   ]
  },
  {
   "cell_type": "markdown",
   "metadata": {},
   "source": [
    "# 英単語２文字以上"
   ]
  },
  {
   "cell_type": "code",
   "execution_count": 15,
   "metadata": {},
   "outputs": [
    {
     "data": {
      "text/plain": [
       "1549"
      ]
     },
     "execution_count": 15,
     "metadata": {},
     "output_type": "execute_result"
    }
   ],
   "source": [
    "from count_the_number import count_the_number_of_not_single\n",
    "\n",
    "not_single_list = count_the_number_of_not_single(removed_usermeniton_url_hashtag)\n",
    "not_single_list_cnt = len(not_single_list)\n",
    "not_single_list_cnt"
   ]
  },
  {
   "cell_type": "markdown",
   "metadata": {},
   "source": [
    "# 分析"
   ]
  },
  {
   "cell_type": "code",
   "execution_count": 17,
   "metadata": {},
   "outputs": [
    {
     "name": "stderr",
     "output_type": "stream",
     "text": [
      "/Users/yuto/opt/anaconda3/lib/python3.8/site-packages/seaborn/_decorators.py:36: FutureWarning: Pass the following variables as keyword args: x, y. From version 0.12, the only valid positional argument will be `data`, and passing other arguments without an explicit keyword will result in an error or misinterpretation.\n",
      "  warnings.warn(\n"
     ]
    },
    {
     "data": {
      "image/png": "[encoded data removed]",
      "text/plain": [
       "<Figure size 432x288 with 1 Axes>"
      ]
     },
     "metadata": {},
     "output_type": "display_data"
    }
   ],
   "source": [
    "x = ['User Mention', 'emoji', 'URL', 'Hashtag', 'alphabet\\n(removed \\n #----  )' ]\n",
    "y = [user_mention_cnt, emoji_cnt, url_cnt, hashtag_cnt, contained_cnt2]\n",
    "\n",
    "figure = sns.barplot(x, y).get_figure()\n",
    "# figure.savefig('result1')\n"
   ]
  },
  {
   "cell_type": "code",
   "execution_count": 18,
   "metadata": {},
   "outputs": [
    {
     "name": "stderr",
     "output_type": "stream",
     "text": [
      "/Users/yuto/opt/anaconda3/lib/python3.8/site-packages/seaborn/_decorators.py:36: FutureWarning: Pass the following variables as keyword args: x, y. From version 0.12, the only valid positional argument will be `data`, and passing other arguments without an explicit keyword will result in an error or misinterpretation.\n",
      "  warnings.warn(\n"
     ]
    },
    {
     "data": {
      "image/png": "[encoded data removed]",
      "text/plain": [
       "<Figure size 432x288 with 1 Axes>"
      ]
     },
     "metadata": {},
     "output_type": "display_data"
    }
   ],
   "source": [
    "x = ['alphabet', 'alphabet\\n(removed \\n #----  )', 'using \\'w\\'', 'using  \\n 2 alphabets \\n or more' ]\n",
    "y = [contained_cnt, contained_cnt2, w_cnt, not_single_list_cnt]\n",
    "\n",
    "figure = sns.barplot(x, y).get_figure()\n",
    "#figure.savefig('result2')\n"
   ]
  },
  {
   "cell_type": "code",
   "execution_count": null,
   "metadata": {},
   "outputs": [],
   "source": []
  }
 ],
 "metadata": {
  "kernelspec": {
   "display_name": "Python 3",
   "language": "python",
   "name": "python3"
  },
  "language_info": {
   "codemirror_mode": {
    "name": "ipython",
    "version": 3
   },
   "file_extension": ".py",
   "mimetype": "text/x-python",
   "name": "python",
   "nbconvert_exporter": "python",
   "pygments_lexer": "ipython3",
   "version": "3.8.2"
  }
 },
 "nbformat": 4,
 "nbformat_minor": 4
}
