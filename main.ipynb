{
 "cells": [
  {
   "cell_type": "code",
   "execution_count": 1,
   "metadata": {},
   "outputs": [],
   "source": [
    "from tweets_list import loadJoblib\n",
    "\n",
    "tweets_list = loadJoblib(\"lst.joblib\")\n"
   ]
  },
  {
   "cell_type": "code",
   "execution_count": 2,
   "metadata": {},
   "outputs": [],
   "source": [
    "from remove import remove_hashtag\n",
    "from remove import remove_usermention\n",
    "from remove import remove_url\n",
    "\n",
    "tweets_list = loadJoblib(\"lst.joblib\")\n",
    "\n",
    "removed_hashtag_tweets = remove_hashtag(tweets_list)\n",
    "removed_hashtag_and_usermention, an = remove_usermention(removed_hashtag_tweets)\n",
    "fixed_tweets = remove_url(removed_hashtag_and_usermention)"
   ]
  },
  {
   "cell_type": "code",
   "execution_count": 3,
   "metadata": {},
   "outputs": [],
   "source": [
    "tweets_list = loadJoblib(\"lst.joblib\")\n",
    "\n",
    "removed_usermention2, changed_list = remove_usermention(tweets_list)\n",
    "fixed_tweets2 = remove_url(removed_usermention2)"
   ]
  },
  {
   "cell_type": "markdown",
   "metadata": {},
   "source": [
    "# User Mention"
   ]
  },
  {
   "cell_type": "code",
   "execution_count": 4,
   "metadata": {},
   "outputs": [
    {
     "data": {
      "text/plain": [
       "4314"
      ]
     },
     "execution_count": 4,
     "metadata": {},
     "output_type": "execute_result"
    }
   ],
   "source": [
    "from count_the_number import count_the_number_of_user_mention\n",
    "\n",
    "user_mention, user_mention_list = count_the_number_of_user_mention(tweets_list)\n",
    "user_mention"
   ]
  },
  {
   "cell_type": "code",
   "execution_count": 5,
   "metadata": {},
   "outputs": [
    {
     "data": {
      "text/plain": [
       "['桃ちゃんとたかみーの声かな @ABEMA で視聴中 https://t.co/9DyZpiqHJn #アベマ将棋',\n",
       " '🎁鬼滅の刃プレゼント🎁\\n\\n✨るかっぷシリーズ✨\\n\\u3000\\u3000🎊一名様へ🎊\\n#煉獄杏寿郎\\u3000#竈門炭治郎\\n#竈門禰󠄀豆子\\u3000#カナヲ\\u3000\\n\\n⭐️条件⭐️\\n①@kmt_present をフォロー\\u3000\\n②この投稿をリツイート\\n\\n📅締め切り8/31 23:59 ⚠️\\n\\n結果は当選者へDM致します📩\\n✅公式LINEで当選確率UP‼️ https://t.co/CfkDKxLKTp',\n",
       " 'ルーレット回しました🌼\\n前から繋がってるffさん\\n最近繋がったffさん\\nはじめましての方から1人ずつで\\nとりあえず3人決定🐶💭\\n\\nりなち@ri_ri_atsumori \\nぴぃちゃん@soratobupii \\nhi-koさん@jss5eoOLI9OsExc',\n",
       " '˗ˏˋ    🍯ぷぅ&amp;えむ🍼るーむ    ˎˊ˗\\n\\n🗓  8/22㈰  \\n⏰  23:00 #23時\\n👥  #スクワッド\\n💸  1000×P \\n\\n@Reve_puu\\n@emu_chan830 \\n↳𝙵𝙾𝙻𝙻𝙾𝚆＆𝚁𝚃《応+代+参全員》連責❣️\\n\\n✏️チーム名/@ありなし/一言/🍼\\n\\n💌本日 22日の交換枠はDMまで💌\\n\\n#交換枠 #賞金ルーム https://t.co/NX54NjK3OR',\n",
       " '夢さん(@Ryuyanoaho )\\n童話組3人で囲いたいなと…！｢わああリュカだ！｣と言って下さった夢さんの前にTLHキャラ3人が現れたらどうなるのかなとか。出身作を知ってくれていることに対してそれぞれ反応は違えどとても喜びますし、その後プレイキャラが誰かの質問をしちゃったりします😌',\n",
       " 'ゆかふぁるく\\n徹甲帰還@2\\n集まり次第〜',\n",
       " '#8月21日(土) 22:00\\n\\n1000×p(ぺ)\\n詳細ツイないので\\nメメ君までDMを٩(*´︶`*)۶\\n\\n出    21日土曜日\\n        22:00\\n\\n求    23日月曜日\\n        22:00/22:30/23:00\\n\\n条件なし統一\\n@3\\n#8月21日 #22時\\n#スクワッド #賞金ルーム https://t.co/LV6HM7r6KD',\n",
       " 'らーめん (@ 高松空港 - @officialtak_ap in 高松市, 香川県) https://t.co/gCF0K7jsmW',\n",
       " '／\\n8/23（月）18時からの\\n小さな国ちゃんねる \\n＼\\n\\nMCは #倉橋うみ さんです 🎙️✨ \\n（@Kurahashi_Umi ）\\n#ミクチャ  #スモワル でお会いしましょう🙌\\n\\nミクチャで視聴👇\\nhttps://t.co/ZiIf6XwKUY\\n#スモールワールズ https://t.co/P0WmgN77r2',\n",
       " '初めてブックライターをさせて頂いた本がついに出版されましたー！\\n\\nとても嬉しい！！！\\nのみやさん(@Nomiya0329 )、\\n丁寧にKindle本出版について教えて頂きありがとうございました😊\\n\\n今後も引き続き、くらぷーさん(@tikyuu57 )の本を書かせて頂きます！！\\n\\n宜しくお願い致します🙇\\u200d♂️🙇\\u200d♂️🙇\\u200d♂️ https://t.co/kxjvifAE5T',\n",
       " '【飲酒トゥーンプラベ確認】\\n9月2日(木)21時〜\\n\\nピヨ様@hiyoko__spl \\nまめちゃん@mame5235 \\nおすしさん@shunXnegi \\nめーちゃん@kuroedaf \\nアズちゃん@azusa_spla \\nブランさん@blanc_games16 \\nぐーちゃん@Zzz_P_ \\n\\n変更がない限りこのままか当日後2人募集して行います。\\n#みかんメモ',\n",
       " 'ここで逮捕された@kiti_twi_bot の様子を見てみましょう\\n\\n男の尻はまだか！\\n￣￣∨￣￣￣￣￣\\n┳━┳━-┳━┓\\n┃ ┃_∧ ┃ ┃\\n┃ (┃՞ਊ՞┃ ┃ｲﾋﾋ\\n┃（づ ﾞо┃\\n┃ / ┃ /┃┃\\n┃し┃ﾞＪ┃ \\nと全く反省の色がありません',\n",
       " '半からえぺ募集@2\\nカジュアル〜',\n",
       " 'わたしは #草摩由希とシャリシャリ豆乳アイス を楽しみたい！ #フルーツバスケット とコラボ中♪ @kikkoman_tounyu をフォローしてツイートするとイラストが届く！ #夏の豆乳頂上決戦 #シャリシャリ豆乳アイス #キッコーマン豆乳 #フルバ',\n",
       " 'https://t.co/ZZJ8XyynR8\\nこれ知ってる？\\n↓興味あればここから参加できるよ！\\n\\n⬇⬇⬇⬇⬇\\n@_okaneNAVI_\\n\\n○○○\\n■\\u3000■\\n☞ ☞',\n",
       " '＊@_mmKrystal ＊るなのだーいすきな、むむちゃん！すっごくかわいくていいこなの～。おしゃべりしてたら、たのしくなっちゃう～♡むむちゃん、だいだいだーいすき。',\n",
       " '15.未来(いつか)【駒木優】 / @i_tsu_ki_cas 初見さん◎ ～気持ちよく目覚める朝歌 https://t.co/YguMDhyefY',\n",
       " '“世界の終末”に備える「プレッパー」という人々を知っていますか｜尾野 彌楠 / Ono Minan @o_minan #note #cakesコンテスト2020 https://t.co/EOpWscXDW7\\nここまでやれば尊敬するさw',\n",
       " 'サンちゃんが一言め発する時に喉の奥でぐるぐるってなる感じがもう声ペンには溜まりません。\\nなのに出てくる声の美しさ。\\nもう無理。ちょこれは誰かきいて。\\n歌を聴くのは当たり前やけどはづのスピーチを聞いて欲しい←\\n@ATEEZofficial \\n#ALittleSpace #ATEEZ #에이티즈\\n#PTXATEEZ #Pentatonix',\n",
       " '本日8月22日（日）は\\n千本一&amp;かもめ丸は元気にお昼の部のみ営業します！\\nお待ちしてます\\n\\nあつこママが「かもめ丸」の絶品丼を食レポしてます♪\\n\\nあつこママYouTube\\n【沼津港漁師めし！ぬまづ伊豆丼とラブライブ公式コラボスイーツが美味しすぎた🍧】を\\n↓ご覧下さい\\nhttps://t.co/dz9rPHBuW3 @YouTube https://t.co/ABFvg3Vcle',\n",
       " 'きんモザさんきゅー舞台挨拶 (at @CINECITTA_jp in 川崎市, 神奈川県) https://t.co/ChsbiSlA3Y https://t.co/9scwpRul1j',\n",
       " 'ヲ母さん@okanyanen_curry おすすめの聖なる書をゲット‼️トゥナパハというスパイスミックスが肝なのはよくわかった🍛 https://t.co/yNHWNl7xvG',\n",
       " 'ハナクソ。〜「逃げろー‼️」😱\\nハナクソ。〜「逃げろー‼️」😱\\nハナクソ。〜「逃げろー‼️」😱\\nウイグルへの「残虐すぎる弾圧」が止まらない…共産党が恐怖政治を続ける理由 @gendai_biz https://t.co/inhURlDbx3 #現代ビジネス',\n",
       " '8/20モーニング別府競輪予想｜競輪予想ちゃりもこ @WXddj #note https://t.co/MbmGM57UAp\\n2レース的中しました！480円です。',\n",
       " '.@OOEDO4 さんの「追悼 みなもと太郎先生～「風雲児たち」「ホモホモ７」や、マンガ史研究で大きな遺産残す」https://t.co/0jxltkTkwR をお気に入りにしました。',\n",
       " 'お旦那⇨@luke_yojimbo \\nのSS加工させていただきました✨\\n\\nもっと色んな人の加工したい笑笑\\n練習してうまくなりたぁぁぁーい！✨✨\\n\\nだれか加工させてー笑笑\\nウズウズ🤤 https://t.co/7Qn6NLobE4',\n",
       " 'じわじわと好きしてくださる方が増えてきて、嬉しいです。ありがとうございます。\\n\\n娘を見て、私の好きをみなおす。｜さんご @GMKqK45tieDHxCy #note #ファッションが好き https://t.co/uUCFNEB8ZM',\n",
       " 'め様@waruimoomin  まりりん\\u3000@World_Izm くまよしさん@MajimeOtintin  皆様、昨夜はありがとうございました💕\\n\\nツイキャスダイジェスト\\n・チンポジウム\\n・くまよしイケボ\\n・みんなヴァージン\\n・おティンダー報告（連載決定）\\n・人外にクリトリスあるか問題\\n・犯人はめさぶぎー\\n\\nテスト結果に期待！',\n",
       " 'スライダーで遊んだのち、ヤマトモさん家の秘密基地(18禁)に案内してもろた🥰ありがとぉ〜🥳🥳💓まじすげーwww\\n\\n#一緒に遊ぼう\\n#ヤマトモ\\n@YAMATOMOcar8888 https://t.co/YeBu8h3mEE',\n",
       " '光触媒コーティングは、人の手に触れる場所にコーティングを施すことで接触感染を防ぎます。\\n新型コロナにも効果があるという実験結果もあります！\\n\\nHP→ https://t.co/PR5WD84n4I\\n\\n#札幌Twitter会 #札幌光触媒コーティング\\n\\n#Googleストリートビュー は @Google_sv エイチ・アールエージェンシー様へ https://t.co/a8cxazxziS',\n",
       " 'この世への誕生は生命にとってはある意味では束縛以外の何ものでもありません。\\nこの世の不自由な生活は生命としてはまるで拷問のような時間なのです。\\n\\nでは、何故そんなに不自由な世界へわざわざ誕生してくるのでしょうか。\\n\\n在家の法\\u3000第228号\\n@yamato_takesi #note https://t.co/IVEgwCmpFC',\n",
       " '𝙂𝙤𝙤𝙙 𝙢𝙤𝙧𝙣𝙞𝙣𝙜 𝙎𝙖𝙞𝙣𝙩𝙨𝙪𝙥☀︎\\n40キロ…上がった⁇\\n足かわよ~ (˵ ˃̶̀ε ˂̶́ ˵)ෆ⃛\\n今日も安全優先で過ごしてね୧( \"̮ )୨✧︎\\nNiceDay\\u200b Saint ฅ^•ﻌ•^ฅ\\n@Saint_sup \\n#Saint_sup \\n#อรุณสวัสดิ์เซ้นต์ซุป \\nCr. IGS saintsup https://t.co/HolIroGtl0',\n",
       " '王様であーる❗😀\\n\\n🎀プレゼントキャンペーン当選発表ぞよよ！\\n\\n🎀ロイヤルファミリー優待措置につき\\n@gGmJdOo95JppoPD\\n殿\\n当選ぞよ！😆👑\\n\\n🎀おめでとうぞよ！😄\\n\\nワーハッハ‼️😁👑🕌',\n",
       " '脳が割と格闘技脳だから、成増って聞くと@blapan_b_noah \\nしか思い浮かばずニュースが入ってこない。\\n\\n東京メトロ駅員が盗撮\\u3000勤務先の成増駅女子トイレ | 2021/8/20 - 共同通信 https://t.co/xM1SRiUGht',\n",
       " '今日の顔ヨガは、こちらから復習できま～～す。\\n\\n免疫力あーーーーっぷ！！\\nのほかにも、お顔の美容にはもちろん、\\n嚥下障害防止効果や、口臭予防にも効果的✨\\n\\nお口の中に潤いを!!\\n\\nhttps://t.co/0aNJAkoqch\\n\\n#golf897  #interfm897 #ゴルフヨガ  \\n@takekoyama\\n@mikiimai\\n@MidoriPf1\\n@GreenJacket897',\n",
       " '僕がsioを好きな理由｜9代目\\u3000折田シズる @oritaku0123 #note https://t.co/tTbOIOyEgn',\n",
       " '⚔️りぃーくんのおにしゃん👹むしゃまるしゃん🐤初コラボルーム！\\n@oni_wk        @MusaO73  \\n\\n🗓8/20(日)\\n🕰22:00\\n👤スクワット\\n༄嵐\\n💣もくのみ \\n🔫一部縛りあり\\n🚗セダン、2輪バイク、水上バイクのみ\\n💰1位💰⇒1000×p\\n📝チーム名・代表者ID→⚔️の返信でりぃ枠確定\\n #スクワット  #賞金ルーム #22時 https://t.co/B4KN2zu97T',\n",
       " '仲良しな２人に無事うちむ便🐥💛(ネームセンスw)届いたみたいでよかった...🥰💖\\nもう住所も知ってるから送りつけるの簡単でついつい、お揃いのもの買っては送りつけちゃう(迷惑)🐥💛笑\\n早く２人に会いたいー🥺💖💖ボラへ！！！(@omc_nm0613)🐨💜 (@muscleusagi93 )🐿️🐱🐰💜 https://t.co/Qn6OT1WDWj',\n",
       " '【どうちょーの部屋】アーカイブ！\\nなんとYou Tubeで聴ける！\\nほまれさん @homarevoice 営業の本質とInstagramへの挑戦を語ってます！\\n聴き逃した方はぜひ！\\nチャンネル登録もよろしくね！←これ言ってみたかったやつ🤭\\nhttps://t.co/osiiIjNJ3n',\n",
       " 'コロナ撲滅目指さぬ欧州、共存へ準備着々 https://t.co/piD2CfY2sI via @WSJJapan \\n英国では8月上旬、レストランやショッピングモール、映画館など娯楽施設の訪問者数がコロナ前の水準を約3％下回った。また、公共交通機関の利用は3分の1減少。職場への出勤も42％減っていた。',\n",
       " '当たらないとクレイジー消しゴムに殺される\\u3000#飲めるパフェフロパ  #ローソン @akiko_lawson https://t.co/VPQyqxprRR',\n",
       " 'そして、スノ達の現場の前に\\nAぇ達の現場で会えたみんな〜☺️♥️\\n\\n@___216ren\\n@Yujota0517 \\n@FukkaS9 \\n@sakumarin75 \\n\\nとりあえず、ゆうちゃん、はるちゃん\\n以外はAぇのカラーのハートにした🥺✨笑\\n\\n次はスノの現場で会えますよーに😌💙 https://t.co/HHMQcg6nUC',\n",
       " 'かのこ（@kano_anmn ）さんへ\\n\\n突然ですが誕生日に神秘的で可愛すぎるゼノをありがとうございました🥰\\nよかったらレモネードノアさま受け取ってください…💕\\n例の服を着せてみたら余計に色々に誰？な感じですみません…😭💦 https://t.co/eurav8HwE4',\n",
       " '【ゲイ向け】\\n「理想の彼氏はどんな人」診断！\\n\\n／\\nあなたにオススメの彼氏は\\n甘やかし上手なお兄ちゃん彼氏！\\n＼\\n\\nPresented by @AMBEROfficial_G @unlo_me https://t.co/1AxrzakClb\\n色々腑に落ちたwww(づ￣ ³￣)づ',\n",
       " 'おはようございます\\n土曜日\\n今日も笑顔で😊\\n素敵な一日を\\n\\n@MestoreG 通販\\n24日21時〜\\nもふもふのスマホポーチ\\nひつじのメメちゃん🐑\\nほっこり温かみのある\\nおにぎりポーチ🍙\\n\\n数が少ないのでお早めにチェックしてね❤️\\n\\nhttps://t.co/xwhBJ9sX5Q https://t.co/dtIVjCmGik',\n",
       " '#スガ政権を詠む句会\\n#あいうえお時事川柳 \\n\\n無毛は無症で入院できるが\\n無二の子無齢で入滅す\\n\\n@fujitv\\xa0\\n@tv_asahi_PR\\xa0\\n@NHK_PR\\xa0\\n@TVTOKYO_PR\\xa0\\n@sankeikoho\\n@YOL_politics\\xa0\\n@asahi\\xa0\\n@ABEMA\\n@kakuteruaki\\n@MHLWitter https://t.co/ETEaCsfPXg']"
      ]
     },
     "execution_count": 5,
     "metadata": {},
     "output_type": "execute_result"
    }
   ],
   "source": [
    "lists = []\n",
    "\n",
    "for i in changed_list:\n",
    "    if i not in user_mention_list:\n",
    "        lists.append(i)\n",
    "    \n",
    "lists"
   ]
  },
  {
   "cell_type": "markdown",
   "metadata": {},
   "source": [
    "# URL○"
   ]
  },
  {
   "cell_type": "code",
   "execution_count": 6,
   "metadata": {},
   "outputs": [
    {
     "data": {
      "text/plain": [
       "1564"
      ]
     },
     "execution_count": 6,
     "metadata": {},
     "output_type": "execute_result"
    }
   ],
   "source": [
    "from count_the_number import count_the_number_of_url\n",
    "\n",
    "url, li, ot = count_the_number_of_url(tweets_list)\n",
    "url"
   ]
  },
  {
   "cell_type": "markdown",
   "metadata": {},
   "source": [
    "# ハッシュタグ"
   ]
  },
  {
   "cell_type": "code",
   "execution_count": 7,
   "metadata": {},
   "outputs": [
    {
     "data": {
      "text/plain": [
       "799"
      ]
     },
     "execution_count": 7,
     "metadata": {},
     "output_type": "execute_result"
    }
   ],
   "source": [
    "\n",
    "from count_the_number import count_the_number_of_hashtag\n",
    "\n",
    "hashtag = count_the_number_of_hashtag(tweets_list)\n",
    "hashtag"
   ]
  },
  {
   "cell_type": "markdown",
   "metadata": {},
   "source": [
    "# 英語・日本語(#を除いて考えた場合)"
   ]
  },
  {
   "cell_type": "code",
   "execution_count": 8,
   "metadata": {},
   "outputs": [
    {
     "data": {
      "text/plain": [
       "1033"
      ]
     },
     "execution_count": 8,
     "metadata": {},
     "output_type": "execute_result"
    }
   ],
   "source": [
    "from contained_english import count_the_number_of_mixed_tweet, tweets_the_number_of_mixed_tweet\n",
    "\n",
    "english_and_japanese = count_the_number_of_mixed_tweet(fixed_tweets)\n",
    "english_and_japanese"
   ]
  },
  {
   "cell_type": "code",
   "execution_count": 9,
   "metadata": {},
   "outputs": [
    {
     "data": {
      "text/plain": [
       "1033"
      ]
     },
     "execution_count": 9,
     "metadata": {},
     "output_type": "execute_result"
    }
   ],
   "source": [
    "english_and_japanese2 = count_the_number_of_mixed_tweet(fixed_tweets2)\n",
    "english_and_japanese2"
   ]
  },
  {
   "cell_type": "code",
   "execution_count": 10,
   "metadata": {},
   "outputs": [
    {
     "data": {
      "text/plain": [
       "4358"
      ]
     },
     "execution_count": 10,
     "metadata": {},
     "output_type": "execute_result"
    }
   ],
   "source": [
    "cnt = 0\n",
    "\n",
    "for i in range(10000):\n",
    "    if tweets_list[i] != removed_usermention2[i]:\n",
    "        cnt += 1\n",
    "cnt"
   ]
  },
  {
   "cell_type": "code",
   "execution_count": 11,
   "metadata": {},
   "outputs": [
    {
     "data": {
      "text/plain": [
       "726"
      ]
     },
     "execution_count": 11,
     "metadata": {},
     "output_type": "execute_result"
    }
   ],
   "source": [
    "cnt = 0\n",
    "\n",
    "for i in range(10000):\n",
    "    if fixed_tweets[i] != fixed_tweets2[i]:\n",
    "        cnt += 1\n",
    "cnt"
   ]
  },
  {
   "cell_type": "code",
   "execution_count": 12,
   "metadata": {},
   "outputs": [
    {
     "ename": "NameError",
     "evalue": "name 're' is not defined",
     "output_type": "error",
     "traceback": [
      "\u001b[0;31m---------------------------------------------------------------------------\u001b[0m",
      "\u001b[0;31mNameError\u001b[0m                                 Traceback (most recent call last)",
      "\u001b[0;32m<ipython-input-12-a9e151373a8e>\u001b[0m in \u001b[0;36m<module>\u001b[0;34m\u001b[0m\n\u001b[1;32m      2\u001b[0m \u001b[0;34m\u001b[0m\u001b[0m\n\u001b[1;32m      3\u001b[0m \u001b[0;32mfor\u001b[0m \u001b[0mtweet\u001b[0m \u001b[0;32min\u001b[0m \u001b[0mfixed_tweets2\u001b[0m\u001b[0;34m:\u001b[0m\u001b[0;34m\u001b[0m\u001b[0;34m\u001b[0m\u001b[0m\n\u001b[0;32m----> 4\u001b[0;31m     \u001b[0;32mif\u001b[0m \u001b[0mre\u001b[0m\u001b[0;34m.\u001b[0m\u001b[0msearch\u001b[0m\u001b[0;34m(\u001b[0m\u001b[0;34mr'#'\u001b[0m\u001b[0;34m,\u001b[0m \u001b[0mtweet\u001b[0m\u001b[0;34m)\u001b[0m\u001b[0;34m:\u001b[0m\u001b[0;34m\u001b[0m\u001b[0;34m\u001b[0m\u001b[0m\n\u001b[0m\u001b[1;32m      5\u001b[0m         \u001b[0mcnt\u001b[0m \u001b[0;34m+=\u001b[0m \u001b[0;36m1\u001b[0m\u001b[0;34m\u001b[0m\u001b[0;34m\u001b[0m\u001b[0m\n\u001b[1;32m      6\u001b[0m \u001b[0;34m\u001b[0m\u001b[0m\n",
      "\u001b[0;31mNameError\u001b[0m: name 're' is not defined"
     ]
    }
   ],
   "source": [
    "cnt = 0\n",
    "\n",
    "for tweet in fixed_tweets2:\n",
    "    if re.search(r'#', tweet):\n",
    "        cnt += 1\n",
    "    \n",
    "cnt"
   ]
  },
  {
   "cell_type": "code",
   "execution_count": null,
   "metadata": {},
   "outputs": [],
   "source": [
    "import re"
   ]
  },
  {
   "cell_type": "code",
   "execution_count": null,
   "metadata": {},
   "outputs": [],
   "source": [
    "cnt = 0\n",
    "\n",
    "for tweet in fixed_tweets:\n",
    "    if re.search(r'#', tweet):\n",
    "        cnt += 1\n",
    "    \n",
    "cnt"
   ]
  },
  {
   "cell_type": "code",
   "execution_count": null,
   "metadata": {},
   "outputs": [],
   "source": [
    "#tweets_list"
   ]
  },
  {
   "cell_type": "code",
   "execution_count": null,
   "metadata": {},
   "outputs": [],
   "source": []
  }
 ],
 "metadata": {
  "kernelspec": {
   "display_name": "Python 3",
   "language": "python",
   "name": "python3"
  },
  "language_info": {
   "codemirror_mode": {
    "name": "ipython",
    "version": 3
   },
   "file_extension": ".py",
   "mimetype": "text/x-python",
   "name": "python",
   "nbconvert_exporter": "python",
   "pygments_lexer": "ipython3",
   "version": "3.7.4"
  }
 },
 "nbformat": 4,
 "nbformat_minor": 4
}
