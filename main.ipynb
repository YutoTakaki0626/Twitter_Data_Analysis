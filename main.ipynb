{
 "cells": [
  {
   "cell_type": "code",
   "execution_count": 1,
   "metadata": {},
   "outputs": [],
   "source": [
    "%load_ext autoreload\n",
    "%autoreload 2"
   ]
  },
  {
   "cell_type": "code",
   "execution_count": 2,
   "metadata": {},
   "outputs": [],
   "source": [
    "import matplotlib.pyplot as plt\n",
    "import seaborn as sns\n",
    "\n",
    "%matplotlib inline\n",
    "sns.set()"
   ]
  },
  {
   "cell_type": "code",
   "execution_count": 3,
   "metadata": {},
   "outputs": [],
   "source": [
    "from tweets_list import loadJoblib\n",
    "\n",
    "tweets_list = loadJoblib(\"lst.joblib\")"
   ]
  },
  {
   "cell_type": "code",
   "execution_count": 4,
   "metadata": {},
   "outputs": [],
   "source": [
    "from remove import *\n",
    "\n",
    "removed_new_line_marks = remove_new_line_marks(tweets_list)\n",
    "removed_new_line_marks_all_blanks = remove_all_blanks(removed_new_line_marks)\n",
    "\n",
    "# removed_usermention = remove_usermention(removed_new_line_marks_all_blanks)\n",
    "removed_usermention = loadJoblib('removed_usermention.joblib')\n",
    "removed_usermention_url = remove_url(removed_usermention)\n",
    "removed_usermeniton_url_hashtag = remove_hashtag_a_series_of_words(removed_usermention_url)"
   ]
  },
  {
   "cell_type": "code",
   "execution_count": 5,
   "metadata": {},
   "outputs": [
    {
     "data": {
      "text/plain": [
       "['きもいって似たような内容マジお前やべーな #Peing #質問箱 ',\n",
       " '面白さランキングけものすらいむさんは【全国2位】です！#shindanmaker #あなたランキング',\n",
       " '【創作】BONBON | 日暮ずむ #pixiv ',\n",
       " '「情強」こそ危ない？Amazon販売業者の最新テクニック3つ #ldnews ',\n",
       " 'そういう質問年齢バレるからやだ#Boxfresh ',\n",
       " '#Spoon DJのまさやんぐです。LIVE配信に遊びに来てね！',\n",
       " '言語アルバム賞を獲っていない桑布伊の年度アルバム賞受賞については、やっぱりちょっと納得いかないところがあって。これでは言語アルバム賞を受賞した漂流出口の立場が微妙ではないかと。この2つの賞の意義の違いが、分かりにくいトコなのかなぁ…。 #GMA32 #金曲32 ',\n",
       " 'ゲロ姉ぇが強く見えるかもしれない#デッドバイデイライト #DeadbyDaylight #DbD #プレイグ ',\n",
       " '瀬戸は没に襲われるツクリテと遭遇する。貴方がニジゲンであればツクリテのサポートを行い、感謝の印として切符を1つ得る。貴方がツクリテであれば、マキナで応戦し辛くもその場を乗り切る。体力−1、狂気を2下げる。#shindanmaker #感情線電車の旅',\n",
       " 'kuuとボイスつけながらゲームした時 #Peing #質問箱 ',\n",
       " '【最速の英単語アプリmikanで毎日の英単語 日常頻出語の90%をマスターするカテゴリーのランク25が修了したことを証します】 #英単語アプリmikan #1日で100単語は余裕 #mikan ',\n",
       " '1. ぎゅってしたい2. いじめたい3. くすぐりあいっこしたい4. １日良いなりになって欲しい5. 食べてしまいたい6. マッスルドッキング7. ふとももすりすりしたい8. セクロスしたい9. キスしたい10.お帰りくださ…#shindanmaker #いいねをした人に番号言う_MANIAC',\n",
       " '昨日は軽めのおつまみ＋わらび〜餅🎶甘いの苦手な私ですが、わらび餅は美味しい。夏🎐・冷やしトマト・もやしナムル・わらび餅《伊藤摩美》#順風男女#昨日の晩酌#わらび餅には緑茶ハイ#enjoyhome ',\n",
       " '#おはエレナイトはの夏衣装はパールホワイトサマーです♪レベル上げ中と思ってたら80になってたので本当は戦士で着てる法被になるんだけどねｗ普段は2P仕様に頭だけインペリアルでした。昨日は運動して帰宅からご飯から遅め推移なのと疲れてほぼインできず(*´з`)#FF14 #FFxiv #エレゼン #エレメス ',\n",
       " 'おはぼの✩.*˚ファイアパーンファイア ファイア ファイアパーンファイアカットファイア ファイア ファイアカット#FirePaan ',\n",
       " '次回、流星群があおぞら市に来る!!魔女軍団も流星群を観測!? #nitiasa #precure',\n",
       " '終わった……ふぅ…。 #precure #tropicarouge',\n",
       " 'おはよう\\U0001f9adファンのみんなにもメンバーにも桜小町の、 スタッフの皆さんにも出会えて本当に良かった。日付変わってしまった。私がkanaeちゃんを知ったのは6/26日からで本当に短い時間だったけどありがとう。桜小町でのkanaeちゃんとたくさん思い出作れて幸せでした。#kanae #よしみず #陽月',\n",
       " '橋下氏「医療界に制裁」ツイートに医療関係者が怒り「必死に戦ってきたのに」 #SmartNews :おっ？ここに来て馬鹿ぎ発動か？屁理屈タレ過ぎて脳ミソ溶けたか？wwお前の発言で正論は一切無いからな。お前の発言は『ただの屁理屈』 ',\n",
       " 'おはやああーです💙今さらながら #STRANGER 全曲良すぎて #JO1 しか聞いてないほど大好きな曲がまたたくさん増えて嬉しい💕そして #STAY のサビで胸熱になって泣きそうになる（ ;  ; ）めちゃ夏っぽくていい歌だなー💖そのMVが観れるの楽しみすぎる❣️蓮ちゃんカッコ良かった😍#川尻蓮#REAL']"
      ]
     },
     "execution_count": 5,
     "metadata": {},
     "output_type": "execute_result"
    }
   ],
   "source": [
    "num = 0\n",
    "tmp = []\n",
    "\n",
    "for tweet in removed_usermention_url:\n",
    "    if tweet not in removed_usermeniton_url_hashtag:\n",
    "        num += 1\n",
    "        tmp.append(tweet)\n",
    "        \n",
    "tmp[:20]"
   ]
  },
  {
   "cell_type": "code",
   "execution_count": 6,
   "metadata": {},
   "outputs": [],
   "source": [
    "# from tweets_list import dumpJoblib\n",
    "# dumpJoblib('removed_usermention.joblib', removed_usermention)"
   ]
  },
  {
   "cell_type": "markdown",
   "metadata": {},
   "source": [
    "# User Mention ○"
   ]
  },
  {
   "cell_type": "code",
   "execution_count": 7,
   "metadata": {},
   "outputs": [
    {
     "data": {
      "text/plain": [
       "4401"
      ]
     },
     "execution_count": 7,
     "metadata": {},
     "output_type": "execute_result"
    }
   ],
   "source": [
    "from count_the_number import count_the_number_of_user_mention\n",
    "\n",
    "user_mention_cnt, user_mention_list = count_the_number_of_user_mention(removed_new_line_marks_all_blanks)\n",
    "user_mention_cnt"
   ]
  },
  {
   "cell_type": "markdown",
   "metadata": {},
   "source": [
    "# URL○"
   ]
  },
  {
   "cell_type": "code",
   "execution_count": 8,
   "metadata": {},
   "outputs": [
    {
     "data": {
      "text/plain": [
       "1564"
      ]
     },
     "execution_count": 8,
     "metadata": {},
     "output_type": "execute_result"
    }
   ],
   "source": [
    "from count_the_number import count_the_number_of_url\n",
    "\n",
    "url_cnt, url_list = count_the_number_of_url(removed_new_line_marks_all_blanks)\n",
    "url_cnt"
   ]
  },
  {
   "cell_type": "markdown",
   "metadata": {},
   "source": [
    "# ハッシュタグ"
   ]
  },
  {
   "cell_type": "code",
   "execution_count": 9,
   "metadata": {},
   "outputs": [
    {
     "data": {
      "text/plain": [
       "799"
      ]
     },
     "execution_count": 9,
     "metadata": {},
     "output_type": "execute_result"
    }
   ],
   "source": [
    "from count_the_number import count_the_number_of_hashtag\n",
    "\n",
    "hashtag = count_the_number_of_hashtag(removed_new_line_marks_all_blanks)\n",
    "hashtag"
   ]
  },
  {
   "cell_type": "markdown",
   "metadata": {},
   "source": [
    "# 英語・日本語(#後の英語も含む)"
   ]
  },
  {
   "cell_type": "code",
   "execution_count": 11,
   "metadata": {},
   "outputs": [
    {
     "data": {
      "text/plain": [
       "2063"
      ]
     },
     "execution_count": 11,
     "metadata": {},
     "output_type": "execute_result"
    }
   ],
   "source": [
    "from contained_english import count_the_number_of_mixed_tweet\n",
    "contained_cnt, contained_list = count_the_number_of_mixed_tweet(removed_usermention_url)\n",
    "contained_cnt"
   ]
  },
  {
   "cell_type": "markdown",
   "metadata": {},
   "source": [
    "# 英語・日本語(#を除いて考えた場合)"
   ]
  },
  {
   "cell_type": "code",
   "execution_count": 12,
   "metadata": {},
   "outputs": [
    {
     "data": {
      "text/plain": [
       "1991"
      ]
     },
     "execution_count": 12,
     "metadata": {},
     "output_type": "execute_result"
    }
   ],
   "source": [
    "contained_cnt2, contained_list2 = count_the_number_of_mixed_tweet(removed_usermeniton_url_hashtag)\n",
    "contained_cnt2"
   ]
  },
  {
   "cell_type": "markdown",
   "metadata": {},
   "source": [
    "# 分析"
   ]
  },
  {
   "cell_type": "code",
   "execution_count": 15,
   "metadata": {},
   "outputs": [
    {
     "data": {
      "image/png": "[encoded data removed]",
      "text/plain": [
       "<Figure size 432x288 with 1 Axes>"
      ]
     },
     "metadata": {
      "needs_background": "light"
     },
     "output_type": "display_data"
    }
   ],
   "source": [
    "x = ['User Mention', 'URL', 'Hashtag', 'alphabet', 'alphabet\\n(removed \\n #----  )' ]\n",
    "y = [user_mention_cnt, url_cnt, hashtag, contained_cnt, contained_cnt2]\n",
    "\n",
    "figure = sns.barplot(x, y).get_figure()\n",
    "figure.savefig('result1')\n"
   ]
  },
  {
   "cell_type": "markdown",
   "metadata": {},
   "source": [
    "# wの検討"
   ]
  },
  {
   "cell_type": "code",
   "execution_count": null,
   "metadata": {},
   "outputs": [],
   "source": [
    "from count_the_number import count_the_number_of_w\n",
    "\n",
    "count_the_number_of_w(removed_usermeniton_url_hashtag)"
   ]
  },
  {
   "cell_type": "code",
   "execution_count": null,
   "metadata": {},
   "outputs": [],
   "source": []
  }
 ],
 "metadata": {
  "kernelspec": {
   "display_name": "Python 3",
   "language": "python",
   "name": "python3"
  },
  "language_info": {
   "codemirror_mode": {
    "name": "ipython",
    "version": 3
   },
   "file_extension": ".py",
   "mimetype": "text/x-python",
   "name": "python",
   "nbconvert_exporter": "python",
   "pygments_lexer": "ipython3",
   "version": "3.7.4"
  }
 },
 "nbformat": 4,
 "nbformat_minor": 4
}
