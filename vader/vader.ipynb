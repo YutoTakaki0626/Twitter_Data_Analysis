{
 "cells": [
  {
   "cell_type": "code",
   "execution_count": 1,
   "id": "bf4e969f-e85e-46b0-9609-334892edcc4c",
   "metadata": {},
   "outputs": [],
   "source": [
    "import pandas as pd\n",
    "read_text_file = pd.read_csv(\"vader.txt\", sep='\\t', names=['number', 'word', 'strength', 'scholor', 'vector'] )\n",
    "read_text_file.to_csv (\"vader.csv\")"
   ]
  },
  {
   "cell_type": "code",
   "execution_count": 2,
   "id": "65e4a5f1-dab8-46a7-8e40-fd9aa7676e32",
   "metadata": {},
   "outputs": [
    {
     "data": {
      "text/html": [
       "<div>\n",
       "<style scoped>\n",
       "    .dataframe tbody tr th:only-of-type {\n",
       "        vertical-align: middle;\n",
       "    }\n",
       "\n",
       "    .dataframe tbody tr th {\n",
       "        vertical-align: top;\n",
       "    }\n",
       "\n",
       "    .dataframe thead th {\n",
       "        text-align: right;\n",
       "    }\n",
       "</style>\n",
       "<table border=\"1\" class=\"dataframe\">\n",
       "  <thead>\n",
       "    <tr style=\"text-align: right;\">\n",
       "      <th></th>\n",
       "      <th>Unnamed: 0</th>\n",
       "      <th>number</th>\n",
       "      <th>word</th>\n",
       "      <th>strength</th>\n",
       "      <th>scholor</th>\n",
       "      <th>vector</th>\n",
       "    </tr>\n",
       "  </thead>\n",
       "  <tbody>\n",
       "    <tr>\n",
       "      <th>0</th>\n",
       "      <td>0</td>\n",
       "      <td>$:</td>\n",
       "      <td>-1.5</td>\n",
       "      <td>0.80623</td>\n",
       "      <td>[-1, -1, -1, -1, -3, -1, -3, -1, -2, -1]</td>\n",
       "      <td>NaN</td>\n",
       "    </tr>\n",
       "    <tr>\n",
       "      <th>1</th>\n",
       "      <td>1</td>\n",
       "      <td>%)</td>\n",
       "      <td>-0.4</td>\n",
       "      <td>1.01980</td>\n",
       "      <td>[-1, 0, -1, 0, 0, -2, -1, 2, -1, 0]</td>\n",
       "      <td>NaN</td>\n",
       "    </tr>\n",
       "    <tr>\n",
       "      <th>2</th>\n",
       "      <td>2</td>\n",
       "      <td>%-)</td>\n",
       "      <td>-1.5</td>\n",
       "      <td>1.43178</td>\n",
       "      <td>[-2, 0, -2, -2, -1, 2, -2, -3, -2, -3]</td>\n",
       "      <td>NaN</td>\n",
       "    </tr>\n",
       "    <tr>\n",
       "      <th>3</th>\n",
       "      <td>3</td>\n",
       "      <td>&amp;-:</td>\n",
       "      <td>-0.4</td>\n",
       "      <td>1.42829</td>\n",
       "      <td>[-3, -1, 0, 0, -1, -1, -1, 2, -1, 2]</td>\n",
       "      <td>NaN</td>\n",
       "    </tr>\n",
       "    <tr>\n",
       "      <th>4</th>\n",
       "      <td>4</td>\n",
       "      <td>&amp;:</td>\n",
       "      <td>-0.7</td>\n",
       "      <td>0.64031</td>\n",
       "      <td>[0, -1, -1, -1, 1, -1, -1, -1, -1, -1]</td>\n",
       "      <td>NaN</td>\n",
       "    </tr>\n",
       "  </tbody>\n",
       "</table>\n",
       "</div>"
      ],
      "text/plain": [
       "   Unnamed: 0 number  word  strength  \\\n",
       "0           0     $:  -1.5   0.80623   \n",
       "1           1     %)  -0.4   1.01980   \n",
       "2           2    %-)  -1.5   1.43178   \n",
       "3           3    &-:  -0.4   1.42829   \n",
       "4           4     &:  -0.7   0.64031   \n",
       "\n",
       "                                    scholor  vector  \n",
       "0  [-1, -1, -1, -1, -3, -1, -3, -1, -2, -1]     NaN  \n",
       "1       [-1, 0, -1, 0, 0, -2, -1, 2, -1, 0]     NaN  \n",
       "2    [-2, 0, -2, -2, -1, 2, -2, -3, -2, -3]     NaN  \n",
       "3      [-3, -1, 0, 0, -1, -1, -1, 2, -1, 2]     NaN  \n",
       "4    [0, -1, -1, -1, 1, -1, -1, -1, -1, -1]     NaN  "
      ]
     },
     "execution_count": 2,
     "metadata": {},
     "output_type": "execute_result"
    }
   ],
   "source": [
    "df = pd.read_csv('vader.csv')\n",
    "df.head()"
   ]
  },
  {
   "cell_type": "code",
   "execution_count": 3,
   "id": "80f5078f-dcb4-4333-a5ab-3e4a9b6afd56",
   "metadata": {},
   "outputs": [
    {
     "data": {
      "text/html": [
       "<div>\n",
       "<style scoped>\n",
       "    .dataframe tbody tr th:only-of-type {\n",
       "        vertical-align: middle;\n",
       "    }\n",
       "\n",
       "    .dataframe tbody tr th {\n",
       "        vertical-align: top;\n",
       "    }\n",
       "\n",
       "    .dataframe thead th {\n",
       "        text-align: right;\n",
       "    }\n",
       "</style>\n",
       "<table border=\"1\" class=\"dataframe\">\n",
       "  <thead>\n",
       "    <tr style=\"text-align: right;\">\n",
       "      <th></th>\n",
       "      <th>number</th>\n",
       "      <th>word</th>\n",
       "      <th>strength</th>\n",
       "      <th>scholor</th>\n",
       "    </tr>\n",
       "  </thead>\n",
       "  <tbody>\n",
       "    <tr>\n",
       "      <th>0</th>\n",
       "      <td>$:</td>\n",
       "      <td>-1.5</td>\n",
       "      <td>0.80623</td>\n",
       "      <td>[-1, -1, -1, -1, -3, -1, -3, -1, -2, -1]</td>\n",
       "    </tr>\n",
       "    <tr>\n",
       "      <th>1</th>\n",
       "      <td>%)</td>\n",
       "      <td>-0.4</td>\n",
       "      <td>1.01980</td>\n",
       "      <td>[-1, 0, -1, 0, 0, -2, -1, 2, -1, 0]</td>\n",
       "    </tr>\n",
       "    <tr>\n",
       "      <th>2</th>\n",
       "      <td>%-)</td>\n",
       "      <td>-1.5</td>\n",
       "      <td>1.43178</td>\n",
       "      <td>[-2, 0, -2, -2, -1, 2, -2, -3, -2, -3]</td>\n",
       "    </tr>\n",
       "    <tr>\n",
       "      <th>3</th>\n",
       "      <td>&amp;-:</td>\n",
       "      <td>-0.4</td>\n",
       "      <td>1.42829</td>\n",
       "      <td>[-3, -1, 0, 0, -1, -1, -1, 2, -1, 2]</td>\n",
       "    </tr>\n",
       "    <tr>\n",
       "      <th>4</th>\n",
       "      <td>&amp;:</td>\n",
       "      <td>-0.7</td>\n",
       "      <td>0.64031</td>\n",
       "      <td>[0, -1, -1, -1, 1, -1, -1, -1, -1, -1]</td>\n",
       "    </tr>\n",
       "  </tbody>\n",
       "</table>\n",
       "</div>"
      ],
      "text/plain": [
       "  number  word  strength                                   scholor\n",
       "0     $:  -1.5   0.80623  [-1, -1, -1, -1, -3, -1, -3, -1, -2, -1]\n",
       "1     %)  -0.4   1.01980       [-1, 0, -1, 0, 0, -2, -1, 2, -1, 0]\n",
       "2    %-)  -1.5   1.43178    [-2, 0, -2, -2, -1, 2, -2, -3, -2, -3]\n",
       "3    &-:  -0.4   1.42829      [-3, -1, 0, 0, -1, -1, -1, 2, -1, 2]\n",
       "4     &:  -0.7   0.64031    [0, -1, -1, -1, 1, -1, -1, -1, -1, -1]"
      ]
     },
     "execution_count": 3,
     "metadata": {},
     "output_type": "execute_result"
    }
   ],
   "source": [
    "df = df.drop('Unnamed: 0', axis=1)\n",
    "df = df.drop('vector', axis=1)\n",
    "df.head()"
   ]
  },
  {
   "cell_type": "code",
   "execution_count": 4,
   "id": "4474b483-2d8a-4e26-b4c4-552f20cccb46",
   "metadata": {},
   "outputs": [],
   "source": [
    "df.columns = ['word', 'strength', 'scholor', 'vector']"
   ]
  },
  {
   "cell_type": "code",
   "execution_count": 5,
   "id": "c5f73986-2425-43e4-8c79-7a3f49665f00",
   "metadata": {},
   "outputs": [
    {
     "data": {
      "text/html": [
       "<div>\n",
       "<style scoped>\n",
       "    .dataframe tbody tr th:only-of-type {\n",
       "        vertical-align: middle;\n",
       "    }\n",
       "\n",
       "    .dataframe tbody tr th {\n",
       "        vertical-align: top;\n",
       "    }\n",
       "\n",
       "    .dataframe thead th {\n",
       "        text-align: right;\n",
       "    }\n",
       "</style>\n",
       "<table border=\"1\" class=\"dataframe\">\n",
       "  <thead>\n",
       "    <tr style=\"text-align: right;\">\n",
       "      <th></th>\n",
       "      <th>word</th>\n",
       "      <th>strength</th>\n",
       "      <th>scholor</th>\n",
       "      <th>vector</th>\n",
       "    </tr>\n",
       "  </thead>\n",
       "  <tbody>\n",
       "    <tr>\n",
       "      <th>0</th>\n",
       "      <td>$:</td>\n",
       "      <td>-1.5</td>\n",
       "      <td>0.80623</td>\n",
       "      <td>[-1, -1, -1, -1, -3, -1, -3, -1, -2, -1]</td>\n",
       "    </tr>\n",
       "    <tr>\n",
       "      <th>1</th>\n",
       "      <td>%)</td>\n",
       "      <td>-0.4</td>\n",
       "      <td>1.01980</td>\n",
       "      <td>[-1, 0, -1, 0, 0, -2, -1, 2, -1, 0]</td>\n",
       "    </tr>\n",
       "    <tr>\n",
       "      <th>2</th>\n",
       "      <td>%-)</td>\n",
       "      <td>-1.5</td>\n",
       "      <td>1.43178</td>\n",
       "      <td>[-2, 0, -2, -2, -1, 2, -2, -3, -2, -3]</td>\n",
       "    </tr>\n",
       "    <tr>\n",
       "      <th>3</th>\n",
       "      <td>&amp;-:</td>\n",
       "      <td>-0.4</td>\n",
       "      <td>1.42829</td>\n",
       "      <td>[-3, -1, 0, 0, -1, -1, -1, 2, -1, 2]</td>\n",
       "    </tr>\n",
       "    <tr>\n",
       "      <th>4</th>\n",
       "      <td>&amp;:</td>\n",
       "      <td>-0.7</td>\n",
       "      <td>0.64031</td>\n",
       "      <td>[0, -1, -1, -1, 1, -1, -1, -1, -1, -1]</td>\n",
       "    </tr>\n",
       "  </tbody>\n",
       "</table>\n",
       "</div>"
      ],
      "text/plain": [
       "  word  strength  scholor                                    vector\n",
       "0   $:      -1.5  0.80623  [-1, -1, -1, -1, -3, -1, -3, -1, -2, -1]\n",
       "1   %)      -0.4  1.01980       [-1, 0, -1, 0, 0, -2, -1, 2, -1, 0]\n",
       "2  %-)      -1.5  1.43178    [-2, 0, -2, -2, -1, 2, -2, -3, -2, -3]\n",
       "3  &-:      -0.4  1.42829      [-3, -1, 0, 0, -1, -1, -1, 2, -1, 2]\n",
       "4   &:      -0.7  0.64031    [0, -1, -1, -1, 1, -1, -1, -1, -1, -1]"
      ]
     },
     "execution_count": 5,
     "metadata": {},
     "output_type": "execute_result"
    }
   ],
   "source": [
    "df.head()"
   ]
  },
  {
   "cell_type": "code",
   "execution_count": 29,
   "id": "4b3b41cd-8469-4bc6-80c7-2599401bc199",
   "metadata": {},
   "outputs": [
    {
     "name": "stdout",
     "output_type": "stream",
     "text": [
      "vader_list:7520\n",
      "abandon\n",
      "zealous\n"
     ]
    }
   ],
   "source": [
    "vader_list = df['word']\n",
    "vader_list = list(vader_list)\n",
    "\n",
    "print('vader_list:{}'.format(len(vader_list)))\n",
    "print(vader_list[441])\n",
    "print(vader_list[7503])\n",
    "\n",
    "vader_list = vader_list[441:7504]"
   ]
  },
  {
   "cell_type": "code",
   "execution_count": 30,
   "id": "112b49e9-f821-44b2-8cd4-6a285e697515",
   "metadata": {},
   "outputs": [
    {
     "name": "stdout",
     "output_type": "stream",
     "text": [
      "short:72\n",
      "vader_list:7063\n"
     ]
    }
   ],
   "source": [
    "short = []\n",
    "\n",
    "for vader in vader_list:\n",
    "    if len(vader) < 4:\n",
    "        short.append(vader)\n",
    "        \n",
    "print('short:{}'.format(len(short)))\n",
    "print('vader_list:{}'.format(len(vader_list)))     "
   ]
  },
  {
   "cell_type": "code",
   "execution_count": 31,
   "id": "f5ead3f4-5139-4346-988b-ed937abcf1e5",
   "metadata": {},
   "outputs": [
    {
     "data": {
      "text/plain": [
       "['aok',\n",
       " 'ass',\n",
       " 'axe',\n",
       " 'bad',\n",
       " 'ban',\n",
       " 'cry',\n",
       " 'cut',\n",
       " 'd-:',\n",
       " 'd:',\n",
       " 'd=',\n",
       " 'die',\n",
       " 'dud',\n",
       " 'fab',\n",
       " 'fad',\n",
       " 'fag',\n",
       " 'fan',\n",
       " 'fav',\n",
       " 'fit',\n",
       " 'flu',\n",
       " 'foe',\n",
       " 'fud',\n",
       " 'fun',\n",
       " 'gag',\n",
       " 'gn8',\n",
       " 'god',\n",
       " 'gun',\n",
       " 'h8',\n",
       " 'ha',\n",
       " 'heh',\n",
       " 'hid',\n",
       " 'hug',\n",
       " 'ill',\n",
       " 'joy',\n",
       " 'lag',\n",
       " 'lol',\n",
       " 'low',\n",
       " 'mad',\n",
       " 'meh',\n",
       " 'mlm',\n",
       " 'mmk',\n",
       " 'nag',\n",
       " 'nah',\n",
       " 'no',\n",
       " 'o.o',\n",
       " 'o_0',\n",
       " 'odd',\n",
       " 'ok',\n",
       " 'pay',\n",
       " 'rig',\n",
       " 'rob',\n",
       " 'sad',\n",
       " 'shy',\n",
       " 'sin',\n",
       " 'sob',\n",
       " 'sok',\n",
       " 'sux',\n",
       " 'top',\n",
       " 'ugh',\n",
       " 'v.v',\n",
       " 'war',\n",
       " 'win',\n",
       " 'woe',\n",
       " 'won',\n",
       " 'woo',\n",
       " 'wow',\n",
       " 'x-d',\n",
       " 'x-p',\n",
       " 'xd',\n",
       " 'xp',\n",
       " 'yay',\n",
       " 'yep',\n",
       " 'yes']"
      ]
     },
     "execution_count": 31,
     "metadata": {},
     "output_type": "execute_result"
    }
   ],
   "source": [
    "short"
   ]
  },
  {
   "cell_type": "code",
   "execution_count": 27,
   "id": "671d5b2f-2722-4e9c-b62c-8ab43b1d11b0",
   "metadata": {},
   "outputs": [
    {
     "data": {
      "text/plain": [
       "7061"
      ]
     },
     "execution_count": 27,
     "metadata": {},
     "output_type": "execute_result"
    }
   ],
   "source": [
    "vader_list.remove('d:')\n",
    "vader_list.remove('d=')\n",
    "len(vader_list)"
   ]
  },
  {
   "cell_type": "code",
   "execution_count": 28,
   "id": "385788fb-79c2-464f-b5b1-bf9b3dbc677a",
   "metadata": {},
   "outputs": [],
   "source": [
    "# from tweets_list import dumpJoblib\n",
    "# dumpJoblib('list/vader_list.joblib', vader_list)"
   ]
  },
  {
   "cell_type": "code",
   "execution_count": null,
   "id": "0c02f33d-4dff-4d37-977b-9de50be4df3c",
   "metadata": {},
   "outputs": [],
   "source": [
    "from tweets_list import loadJoblib\n",
    "\n",
    "tweets_list = loadJoblib(\"../list/tweets_list.joblib\")\n",
    "\n",
    "removed_new_line_marks = remove_new_line_marks(tweets_list)\n",
    "removed_new_line_marks_all_blanks = remove_all_blanks(removed_new_line_marks)\n",
    "\n",
    "removed_usermention = loadJoblib(\"../list/removed_usermention.joblib\")\n",
    "removed_usermention_url = remove_url(removed_usermention)\n",
    "removed_usermeniton_url_hashtag = remove_hashtag_a_series_of_words(removed_usermention_url)"
   ]
  },
  {
   "cell_type": "code",
   "execution_count": 11,
   "id": "803c57ec-f2f7-4c88-ae54-78a98224288a",
   "metadata": {},
   "outputs": [
    {
     "data": {
      "text/plain": [
       "103"
      ]
     },
     "execution_count": 11,
     "metadata": {},
     "output_type": "execute_result"
    }
   ],
   "source": [
    "vader_list = loadJoblib('../list/vader_list.joblib')\n",
    "\n",
    "contained_vader = []\n",
    "what_is_vader = []\n",
    "\n",
    "for tweet in removed_usermeniton_url_hashtag:\n",
    "    for vader in vader_list:\n",
    "        if vader in tweet:\n",
    "            contained_vader.append(tweet)\n",
    "            what_is_vader.append(vader)\n",
    "            break\n",
    "            \n",
    "len(contained_vader)"
   ]
  }
 ],
 "metadata": {
  "kernelspec": {
   "display_name": "Python 3",
   "language": "python",
   "name": "python3"
  },
  "language_info": {
   "codemirror_mode": {
    "name": "ipython",
    "version": 3
   },
   "file_extension": ".py",
   "mimetype": "text/x-python",
   "name": "python",
   "nbconvert_exporter": "python",
   "pygments_lexer": "ipython3",
   "version": "3.8.2"
  }
 },
 "nbformat": 4,
 "nbformat_minor": 5
}
